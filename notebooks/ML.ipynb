{
 "cells": [
  {
   "cell_type": "code",
   "execution_count": 102,
   "metadata": {
    "colab": {
     "base_uri": "https://localhost:8080/"
    },
    "executionInfo": {
     "elapsed": 338,
     "status": "ok",
     "timestamp": 1711655508574,
     "user": {
      "displayName": "Josue Huaman",
      "userId": "00979111574313897553"
     },
     "user_tz": 300
    },
    "id": "hLkP28FRGXAm",
    "outputId": "bab50892-654d-4aac-f73b-a01af047f454"
   },
   "outputs": [],
   "source": [
    "import pandas as pd\n",
    "import re\n",
    "import matplotlib.pyplot as plt\n",
    "import seaborn as sns\n",
    "import numpy as np\n",
    "\n",
    "from sklearn.model_selection import train_test_split, GridSearchCV\n",
    "from sklearn.pipeline import Pipeline\n",
    "from sklearn.preprocessing import StandardScaler\n",
    "from sklearn.decomposition import PCA\n",
    "from sklearn.ensemble import GradientBoostingRegressor\n",
    "from sklearn.metrics import mean_absolute_error, mean_squared_error\n",
    "from sklearn.svm import SVR\n",
    "from joblib import dump, load"
   ]
  },
  {
   "cell_type": "markdown",
   "metadata": {},
   "source": [
    "# Index\n",
    "* [Training](#Training)\n",
    "    * [Grid Search](#Grid-Search)\n",
    "    * [Support Vector Regression](#Support-Vector-Regression)\n",
    "    * [Gradient Boosting Regressor](#Gradient-Boosting-Regressor)\n",
    "    * [Saving Model](#Saving-Model)\n",
    "* [Testing](#Testing)"
   ]
  },
  {
   "cell_type": "markdown",
   "metadata": {
    "id": "zkOL7aIwxY7P"
   },
   "source": [
    "# Training\n",
    "[Index](#Index)\n",
    "\n",
    "[`train_test_split`](https://scikit-learn.org/stable/modules/generated/sklearn.model_selection.train_test_split.html)"
   ]
  },
  {
   "cell_type": "code",
   "execution_count": 89,
   "metadata": {
    "executionInfo": {
     "elapsed": 335,
     "status": "ok",
     "timestamp": 1711656460249,
     "user": {
      "displayName": "Josue Huaman",
      "userId": "00979111574313897553"
     },
     "user_tz": 300
    },
    "id": "_RIML9hap3Mm"
   },
   "outputs": [],
   "source": [
    "dataframeML=pd.read_csv('/tf/ML-project/data/processedDataframe.csv')"
   ]
  },
  {
   "cell_type": "code",
   "execution_count": 90,
   "metadata": {
    "executionInfo": {
     "elapsed": 329,
     "status": "ok",
     "timestamp": 1711656518004,
     "user": {
      "displayName": "Josue Huaman",
      "userId": "00979111574313897553"
     },
     "user_tz": 300
    },
    "id": "spkJ0Yg1xaLa"
   },
   "outputs": [],
   "source": [
    "X, y = dataframeML.drop(columns=[\"Category\"]), dataframeML[\"Data.Fat.Total Lipid\"]\n",
    "\n",
    "X_train, X_test, y_train, y_test = train_test_split(\n",
    "    X, y, test_size=0.33, random_state=42)"
   ]
  },
  {
   "cell_type": "markdown",
   "metadata": {
    "id": "Xahy-6rulkBr"
   },
   "source": [
    "## Grid Search\n",
    "[Index](#Index)\n",
    "\n",
    "![](https://www.mathworks.com/discovery/cross-validation/_jcr_content/mainParsys/image.adapt.full.medium.jpg/1706180466423.jpg)\n",
    "\n",
    "[`GridSearchCV`](https://scikit-learn.org/stable/modules/generated/sklearn.model_selection.GridSearchCV.html)\n",
    "[`putting_together`](https://scikit-learn.org/stable/tutorial/statistical_inference/putting_together.html)"
   ]
  },
  {
   "cell_type": "code",
   "execution_count": 91,
   "metadata": {
    "executionInfo": {
     "elapsed": 14,
     "status": "ok",
     "timestamp": 1711648016261,
     "user": {
      "displayName": "Josue Huaman",
      "userId": "00979111574313897553"
     },
     "user_tz": 300
    },
    "id": "AY-oq69_mMPi"
   },
   "outputs": [],
   "source": [
    "def findBestHyperparameters(model,param_grid):\n",
    "  # Define a pipeline to search for the best combination of PCA truncation\n",
    "  # and classifier regularization.\n",
    "  pca = PCA()\n",
    "  # Define a Standard Scaler to normalize inputs\n",
    "  scaler = StandardScaler()\n",
    "\n",
    "  pipe = Pipeline(steps=[(\"scaler\", scaler), (\"pca\", pca), (\"model\", model)])\n",
    "\n",
    "  search = GridSearchCV(pipe, param_grid, n_jobs=2, verbose=3)\n",
    "  search.fit(X_train, y_train)\n",
    "  print(\"Best parameter (CV score=%0.3f):\" % search.best_score_)\n",
    "  print(search.best_params_)\n",
    "  return search.best_estimator_"
   ]
  },
  {
   "cell_type": "markdown",
   "metadata": {
    "id": "6wg1lD0Olfa8"
   },
   "source": [
    "## Gradient Boosting Regressor\n",
    "[Index](#Index)\n",
    "\n",
    "[`GradientBoostingRegressor`](https://scikit-learn.org/stable/modules/generated/sklearn.ensemble.GradientBoostingRegressor.html)"
   ]
  },
  {
   "cell_type": "code",
   "execution_count": 92,
   "metadata": {
    "colab": {
     "base_uri": "https://localhost:8080/"
    },
    "executionInfo": {
     "elapsed": 27440,
     "status": "ok",
     "timestamp": 1711648043689,
     "user": {
      "displayName": "Josue Huaman",
      "userId": "00979111574313897553"
     },
     "user_tz": 300
    },
    "id": "eurDXMTelQu9",
    "outputId": "ab177619-a941-41f7-9659-0e4811cad408"
   },
   "outputs": [
    {
     "name": "stdout",
     "output_type": "stream",
     "text": [
      "Fitting 5 folds for each of 3 candidates, totalling 15 fits\n",
      "Best parameter (CV score=0.968):\n",
      "{'pca__n_components': 30}\n"
     ]
    }
   ],
   "source": [
    "if False:\n",
    "    model = GradientBoostingRegressor(random_state=0)\n",
    "    param_grid = {\n",
    "        \"pca__n_components\": [5, 15, 30],\n",
    "    }\n",
    "    \n",
    "    search = findBestHyperparameters(model,param_grid)"
   ]
  },
  {
   "cell_type": "markdown",
   "metadata": {},
   "source": [
    "## Support Vector Regression\n",
    "[Index](#Index)\n",
    "\n",
    "[`SVR`](https://scikit-learn.org/stable/modules/generated/sklearn.svm.SVR.html)"
   ]
  },
  {
   "cell_type": "code",
   "execution_count": 93,
   "metadata": {},
   "outputs": [
    {
     "name": "stdout",
     "output_type": "stream",
     "text": [
      "Fitting 5 folds for each of 48 candidates, totalling 240 fits\n",
      "[CV 2/5] END ...............pca__n_components=5;, score=0.896 total time=   1.5s\n",
      "[CV 4/5] END ...............pca__n_components=5;, score=0.891 total time=   1.4s\n",
      "[CV 5/5] END ...............pca__n_components=5;, score=0.909 total time=   1.4s\n",
      "[CV 2/5] END ..............pca__n_components=15;, score=0.960 total time=   3.9s\n",
      "[CV 4/5] END ..............pca__n_components=15;, score=0.956 total time=   3.8s\n",
      "[CV 1/5] END ..............pca__n_components=30;, score=0.970 total time=   7.6s\n",
      "[CV 3/5] END ..............pca__n_components=30;, score=0.975 total time=   7.7s\n",
      "[CV 5/5] END ..............pca__n_components=30;, score=0.968 total time=   6.5s\n",
      "[CV 2/5] END model__C=0.1, model__gamma=0.001, pca__n_components=5;, score=-0.083 total time=   3.6s\n",
      "[CV 4/5] END model__C=0.1, model__gamma=0.001, pca__n_components=5;, score=-0.062 total time=   2.0s\n",
      "[CV 5/5] END model__C=0.1, model__gamma=0.001, pca__n_components=5;, score=-0.072 total time=   3.3s\n",
      "[CV 2/5] END model__C=0.1, model__gamma=0.001, pca__n_components=15;, score=-0.042 total time=   2.6s\n",
      "[CV 4/5] END model__C=0.1, model__gamma=0.001, pca__n_components=15;, score=-0.026 total time=   2.4s\n",
      "[CV 1/5] END model__C=0.1, model__gamma=0.001, pca__n_components=30;, score=-0.013 total time=   3.1s\n",
      "[CV 3/5] END model__C=0.1, model__gamma=0.001, pca__n_components=30;, score=-0.007 total time=   3.7s\n",
      "[CV 5/5] END model__C=0.1, model__gamma=0.001, pca__n_components=30;, score=-0.026 total time=   4.7s\n",
      "[CV 3/5] END model__C=0.1, model__gamma=0.01, pca__n_components=5;, score=0.217 total time=   3.8s\n",
      "[CV 5/5] END model__C=0.1, model__gamma=0.01, pca__n_components=5;, score=0.190 total time=   1.8s\n",
      "[CV 2/5] END model__C=0.1, model__gamma=0.01, pca__n_components=15;, score=0.366 total time=   1.9s\n",
      "[CV 4/5] END model__C=0.1, model__gamma=0.01, pca__n_components=15;, score=0.337 total time=   2.0s\n",
      "[CV 1/5] END model__C=0.1, model__gamma=0.01, pca__n_components=30;, score=0.355 total time=   2.4s\n",
      "[CV 3/5] END model__C=0.1, model__gamma=0.01, pca__n_components=30;, score=0.355 total time=   2.4s\n",
      "[CV 5/5] END model__C=0.1, model__gamma=0.01, pca__n_components=30;, score=0.339 total time=   2.5s\n",
      "[CV 2/5] END model__C=0.1, model__gamma=0.1, pca__n_components=5;, score=0.322 total time=   1.6s\n",
      "[CV 4/5] END model__C=0.1, model__gamma=0.1, pca__n_components=5;, score=0.292 total time=   1.6s\n",
      "[CV 1/5] END model__C=0.1, model__gamma=0.1, pca__n_components=15;, score=0.226 total time=   1.9s\n",
      "[CV 3/5] END model__C=0.1, model__gamma=0.1, pca__n_components=15;, score=0.237 total time=   2.0s\n",
      "[CV 5/5] END model__C=0.1, model__gamma=0.1, pca__n_components=15;, score=0.234 total time=   1.8s\n",
      "[CV 2/5] END model__C=0.1, model__gamma=0.1, pca__n_components=30;, score=0.169 total time=   2.4s\n",
      "[CV 4/5] END model__C=0.1, model__gamma=0.1, pca__n_components=30;, score=0.145 total time=   2.5s\n",
      "[CV 1/5] END model__C=0.1, model__gamma=1, pca__n_components=5;, score=0.108 total time=   1.8s\n",
      "[CV 3/5] END model__C=0.1, model__gamma=1, pca__n_components=5;, score=0.109 total time=   1.8s\n",
      "[CV 5/5] END model__C=0.1, model__gamma=1, pca__n_components=5;, score=0.118 total time=   1.7s\n",
      "[CV 2/5] END model__C=0.1, model__gamma=1, pca__n_components=15;, score=-0.027 total time=   2.2s\n",
      "[CV 4/5] END model__C=0.1, model__gamma=1, pca__n_components=15;, score=-0.026 total time=   2.1s\n",
      "[CV 1/5] END model__C=0.1, model__gamma=1, pca__n_components=30;, score=-0.048 total time=   3.2s\n",
      "[CV 3/5] END model__C=0.1, model__gamma=1, pca__n_components=30;, score=-0.045 total time=   3.4s\n",
      "[CV 5/5] END model__C=0.1, model__gamma=1, pca__n_components=30;, score=-0.063 total time=   2.6s\n",
      "[CV 2/5] END model__C=1, model__gamma=0.001, pca__n_components=5;, score=0.222 total time=   1.8s\n",
      "[CV 4/5] END model__C=1, model__gamma=0.001, pca__n_components=5;, score=0.218 total time=   1.6s\n",
      "[CV 1/5] END model__C=1, model__gamma=0.001, pca__n_components=15;, score=0.542 total time=   2.3s\n",
      "[CV 3/5] END model__C=1, model__gamma=0.001, pca__n_components=15;, score=0.556 total time=   2.0s\n",
      "[CV 5/5] END model__C=1, model__gamma=0.001, pca__n_components=15;, score=0.574 total time=   1.9s\n",
      "[CV 2/5] END model__C=1, model__gamma=0.001, pca__n_components=30;, score=0.583 total time=   2.3s\n",
      "[CV 4/5] END model__C=1, model__gamma=0.001, pca__n_components=30;, score=0.574 total time=   2.3s\n",
      "[CV 1/5] END model__C=1, model__gamma=0.01, pca__n_components=5;, score=0.589 total time=   1.5s\n",
      "[CV 2/5] END model__C=1, model__gamma=0.01, pca__n_components=5;, score=0.599 total time=   1.7s\n",
      "[CV 4/5] END model__C=1, model__gamma=0.01, pca__n_components=5;, score=0.549 total time=   1.6s\n",
      "[CV 1/5] END model__C=1, model__gamma=0.01, pca__n_components=15;, score=0.938 total time=   1.8s\n",
      "[CV 3/5] END model__C=1, model__gamma=0.01, pca__n_components=15;, score=0.939 total time=   1.8s\n",
      "[CV 5/5] END model__C=1, model__gamma=0.01, pca__n_components=15;, score=0.936 total time=   2.5s\n",
      "[CV 2/5] END model__C=1, model__gamma=0.01, pca__n_components=30;, score=0.959 total time=   2.0s\n",
      "[CV 4/5] END model__C=1, model__gamma=0.01, pca__n_components=30;, score=0.905 total time=   2.3s\n",
      "[CV 1/5] END model__C=1, model__gamma=0.1, pca__n_components=5;, score=0.876 total time=   1.5s\n",
      "[CV 3/5] END model__C=1, model__gamma=0.1, pca__n_components=5;, score=0.893 total time=   1.6s\n",
      "[CV 5/5] END model__C=1, model__gamma=0.1, pca__n_components=5;, score=0.848 total time=   1.6s\n",
      "[CV 2/5] END model__C=1, model__gamma=0.1, pca__n_components=15;, score=0.790 total time=   1.9s\n",
      "[CV 4/5] END model__C=1, model__gamma=0.1, pca__n_components=15;, score=0.681 total time=   1.9s\n",
      "[CV 1/5] END model__C=1, model__gamma=0.1, pca__n_components=30;, score=0.662 total time=   2.7s\n",
      "[CV 3/5] END model__C=1, model__gamma=0.1, pca__n_components=30;, score=0.648 total time=   2.2s\n",
      "[CV 5/5] END model__C=1, model__gamma=0.1, pca__n_components=30;, score=0.620 total time=   2.2s\n",
      "[CV 2/5] END model__C=1, model__gamma=1, pca__n_components=5;, score=0.514 total time=   1.7s\n",
      "[CV 4/5] END model__C=1, model__gamma=1, pca__n_components=5;, score=0.483 total time=   1.8s\n",
      "[CV 1/5] END model__C=1, model__gamma=1, pca__n_components=15;, score=0.217 total time=   2.1s\n",
      "[CV 3/5] END model__C=1, model__gamma=1, pca__n_components=15;, score=0.221 total time=   2.2s\n",
      "[CV 5/5] END model__C=1, model__gamma=1, pca__n_components=15;, score=0.211 total time=   2.2s\n",
      "[CV 2/5] END model__C=1, model__gamma=1, pca__n_components=30;, score=0.102 total time=   2.7s\n",
      "[CV 4/5] END model__C=1, model__gamma=1, pca__n_components=30;, score=0.089 total time=   2.5s\n",
      "[CV 1/5] END model__C=10, model__gamma=0.001, pca__n_components=5;, score=0.477 total time=   1.7s\n",
      "[CV 2/5] END model__C=10, model__gamma=0.001, pca__n_components=5;, score=0.512 total time=   1.6s\n",
      "[CV 4/5] END model__C=10, model__gamma=0.001, pca__n_components=5;, score=0.472 total time=   2.0s\n",
      "[CV 1/5] END model__C=10, model__gamma=0.001, pca__n_components=15;, score=0.939 total time=   1.9s\n",
      "[CV 3/5] END model__C=10, model__gamma=0.001, pca__n_components=15;, score=0.930 total time=   1.9s\n",
      "[CV 5/5] END model__C=10, model__gamma=0.001, pca__n_components=15;, score=0.942 total time=   1.9s\n",
      "[CV 2/5] END model__C=10, model__gamma=0.001, pca__n_components=30;, score=0.988 total time=   2.6s\n",
      "[CV 4/5] END model__C=10, model__gamma=0.001, pca__n_components=30;, score=0.962 total time=   2.2s\n",
      "[CV 1/5] END model__C=10, model__gamma=0.01, pca__n_components=5;, score=0.875 total time=   1.6s\n",
      "[CV 3/5] END model__C=10, model__gamma=0.01, pca__n_components=5;, score=0.907 total time=   1.7s\n",
      "[CV 5/5] END model__C=10, model__gamma=0.01, pca__n_components=5;, score=0.848 total time=   1.6s\n",
      "[CV 2/5] END model__C=10, model__gamma=0.01, pca__n_components=15;, score=0.976 total time=   1.9s\n",
      "[CV 4/5] END model__C=10, model__gamma=0.01, pca__n_components=15;, score=0.949 total time=   2.1s\n",
      "[CV 1/5] END model__C=10, model__gamma=0.01, pca__n_components=30;, score=0.988 total time=   3.0s\n",
      "[CV 3/5] END model__C=10, model__gamma=0.01, pca__n_components=30;, score=0.987 total time=   2.6s\n",
      "[CV 5/5] END model__C=10, model__gamma=0.01, pca__n_components=30;, score=0.978 total time=   2.1s\n",
      "[CV 1/5] END ...............pca__n_components=5;, score=0.914 total time=   1.5s\n",
      "[CV 3/5] END ...............pca__n_components=5;, score=0.924 total time=   1.5s\n",
      "[CV 1/5] END ..............pca__n_components=15;, score=0.966 total time=   3.9s\n",
      "[CV 3/5] END ..............pca__n_components=15;, score=0.971 total time=   3.8s\n",
      "[CV 5/5] END ..............pca__n_components=15;, score=0.965 total time=   4.0s\n",
      "[CV 2/5] END ..............pca__n_components=30;, score=0.966 total time=   7.7s\n",
      "[CV 4/5] END ..............pca__n_components=30;, score=0.960 total time=   7.4s\n",
      "[CV 1/5] END model__C=0.1, model__gamma=0.001, pca__n_components=5;, score=-0.059 total time=   3.6s\n",
      "[CV 3/5] END model__C=0.1, model__gamma=0.001, pca__n_components=5;, score=-0.051 total time=   2.0s\n",
      "[CV 1/5] END model__C=0.1, model__gamma=0.001, pca__n_components=15;, score=-0.015 total time=   4.0s\n",
      "[CV 3/5] END model__C=0.1, model__gamma=0.001, pca__n_components=15;, score=-0.009 total time=   2.3s\n",
      "[CV 5/5] END model__C=0.1, model__gamma=0.001, pca__n_components=15;, score=-0.025 total time=   2.4s\n",
      "[CV 2/5] END model__C=0.1, model__gamma=0.001, pca__n_components=30;, score=-0.041 total time=   3.6s\n",
      "[CV 4/5] END model__C=0.1, model__gamma=0.001, pca__n_components=30;, score=-0.027 total time=   3.4s\n",
      "[CV 1/5] END model__C=0.1, model__gamma=0.01, pca__n_components=5;, score=0.192 total time=   3.3s\n",
      "[CV 2/5] END model__C=0.1, model__gamma=0.01, pca__n_components=5;, score=0.197 total time=   3.9s\n",
      "[CV 4/5] END model__C=0.1, model__gamma=0.01, pca__n_components=5;, score=0.188 total time=   2.1s\n",
      "[CV 1/5] END model__C=0.1, model__gamma=0.01, pca__n_components=15;, score=0.358 total time=   1.9s\n",
      "[CV 3/5] END model__C=0.1, model__gamma=0.01, pca__n_components=15;, score=0.367 total time=   2.0s\n",
      "[CV 5/5] END model__C=0.1, model__gamma=0.01, pca__n_components=15;, score=0.359 total time=   1.8s\n",
      "[CV 2/5] END model__C=0.1, model__gamma=0.01, pca__n_components=30;, score=0.354 total time=   2.5s\n",
      "[CV 4/5] END model__C=0.1, model__gamma=0.01, pca__n_components=30;, score=0.319 total time=   2.5s\n",
      "[CV 1/5] END model__C=0.1, model__gamma=0.1, pca__n_components=5;, score=0.328 total time=   1.7s\n",
      "[CV 3/5] END model__C=0.1, model__gamma=0.1, pca__n_components=5;, score=0.338 total time=   1.7s\n",
      "[CV 5/5] END model__C=0.1, model__gamma=0.1, pca__n_components=5;, score=0.334 total time=   1.5s\n",
      "[CV 2/5] END model__C=0.1, model__gamma=0.1, pca__n_components=15;, score=0.244 total time=   2.0s\n",
      "[CV 4/5] END model__C=0.1, model__gamma=0.1, pca__n_components=15;, score=0.208 total time=   1.9s\n",
      "[CV 1/5] END model__C=0.1, model__gamma=0.1, pca__n_components=30;, score=0.168 total time=   2.4s\n",
      "[CV 3/5] END model__C=0.1, model__gamma=0.1, pca__n_components=30;, score=0.176 total time=   2.5s\n",
      "[CV 5/5] END model__C=0.1, model__gamma=0.1, pca__n_components=30;, score=0.168 total time=   2.5s\n",
      "[CV 2/5] END model__C=0.1, model__gamma=1, pca__n_components=5;, score=0.098 total time=   1.8s\n",
      "[CV 4/5] END model__C=0.1, model__gamma=1, pca__n_components=5;, score=0.093 total time=   1.6s\n",
      "[CV 1/5] END model__C=0.1, model__gamma=1, pca__n_components=15;, score=-0.010 total time=   2.2s\n",
      "[CV 3/5] END model__C=0.1, model__gamma=1, pca__n_components=15;, score=0.002 total time=   2.0s\n",
      "[CV 5/5] END model__C=0.1, model__gamma=1, pca__n_components=15;, score=-0.017 total time=   2.6s\n",
      "[CV 2/5] END model__C=0.1, model__gamma=1, pca__n_components=30;, score=-0.081 total time=   3.5s\n",
      "[CV 4/5] END model__C=0.1, model__gamma=1, pca__n_components=30;, score=-0.070 total time=   2.9s\n",
      "[CV 1/5] END model__C=1, model__gamma=0.001, pca__n_components=5;, score=0.203 total time=   1.7s\n",
      "[CV 3/5] END model__C=1, model__gamma=0.001, pca__n_components=5;, score=0.239 total time=   1.7s\n",
      "[CV 5/5] END model__C=1, model__gamma=0.001, pca__n_components=5;, score=0.198 total time=   1.9s\n",
      "[CV 2/5] END model__C=1, model__gamma=0.001, pca__n_components=15;, score=0.552 total time=   2.2s\n",
      "[CV 4/5] END model__C=1, model__gamma=0.001, pca__n_components=15;, score=0.547 total time=   1.9s\n",
      "[CV 1/5] END model__C=1, model__gamma=0.001, pca__n_components=30;, score=0.588 total time=   2.3s\n",
      "[CV 3/5] END model__C=1, model__gamma=0.001, pca__n_components=30;, score=0.595 total time=   2.2s\n",
      "[CV 5/5] END model__C=1, model__gamma=0.001, pca__n_components=30;, score=0.595 total time=   2.4s\n",
      "[CV 3/5] END model__C=1, model__gamma=0.01, pca__n_components=5;, score=0.635 total time=   1.6s\n",
      "[CV 5/5] END model__C=1, model__gamma=0.01, pca__n_components=5;, score=0.585 total time=   1.6s\n",
      "[CV 2/5] END model__C=1, model__gamma=0.01, pca__n_components=15;, score=0.939 total time=   1.9s\n",
      "[CV 4/5] END model__C=1, model__gamma=0.01, pca__n_components=15;, score=0.898 total time=   1.9s\n",
      "[CV 1/5] END model__C=1, model__gamma=0.01, pca__n_components=30;, score=0.953 total time=   2.8s\n",
      "[CV 3/5] END model__C=1, model__gamma=0.01, pca__n_components=30;, score=0.944 total time=   2.2s\n",
      "[CV 5/5] END model__C=1, model__gamma=0.01, pca__n_components=30;, score=0.937 total time=   2.3s\n",
      "[CV 2/5] END model__C=1, model__gamma=0.1, pca__n_components=5;, score=0.844 total time=   1.5s\n",
      "[CV 4/5] END model__C=1, model__gamma=0.1, pca__n_components=5;, score=0.805 total time=   1.6s\n",
      "[CV 1/5] END model__C=1, model__gamma=0.1, pca__n_components=15;, score=0.781 total time=   1.9s\n",
      "[CV 3/5] END model__C=1, model__gamma=0.1, pca__n_components=15;, score=0.773 total time=   1.9s\n",
      "[CV 5/5] END model__C=1, model__gamma=0.1, pca__n_components=15;, score=0.739 total time=   1.9s\n",
      "[CV 2/5] END model__C=1, model__gamma=0.1, pca__n_components=30;, score=0.647 total time=   2.8s\n",
      "[CV 4/5] END model__C=1, model__gamma=0.1, pca__n_components=30;, score=0.562 total time=   2.3s\n",
      "[CV 1/5] END model__C=1, model__gamma=1, pca__n_components=5;, score=0.591 total time=   1.9s\n",
      "[CV 3/5] END model__C=1, model__gamma=1, pca__n_components=5;, score=0.547 total time=   1.7s\n",
      "[CV 5/5] END model__C=1, model__gamma=1, pca__n_components=5;, score=0.563 total time=   1.7s\n",
      "[CV 2/5] END model__C=1, model__gamma=1, pca__n_components=15;, score=0.200 total time=   2.0s\n",
      "[CV 4/5] END model__C=1, model__gamma=1, pca__n_components=15;, score=0.183 total time=   2.1s\n",
      "[CV 1/5] END model__C=1, model__gamma=1, pca__n_components=30;, score=0.134 total time=   2.9s\n",
      "[CV 3/5] END model__C=1, model__gamma=1, pca__n_components=30;, score=0.133 total time=   2.7s\n",
      "[CV 5/5] END model__C=1, model__gamma=1, pca__n_components=30;, score=0.121 total time=   2.8s\n",
      "[CV 3/5] END model__C=10, model__gamma=0.001, pca__n_components=5;, score=0.535 total time=   1.6s\n",
      "[CV 5/5] END model__C=10, model__gamma=0.001, pca__n_components=5;, score=0.485 total time=   1.9s\n",
      "[CV 2/5] END model__C=10, model__gamma=0.001, pca__n_components=15;, score=0.937 total time=   2.0s\n",
      "[CV 4/5] END model__C=10, model__gamma=0.001, pca__n_components=15;, score=0.914 total time=   1.9s\n",
      "[CV 1/5] END model__C=10, model__gamma=0.001, pca__n_components=30;, score=0.979 total time=   2.2s\n",
      "[CV 3/5] END model__C=10, model__gamma=0.001, pca__n_components=30;, score=0.986 total time=   2.8s\n",
      "[CV 5/5] END model__C=10, model__gamma=0.001, pca__n_components=30;, score=0.986 total time=   2.2s\n",
      "[CV 2/5] END model__C=10, model__gamma=0.01, pca__n_components=5;, score=0.863 total time=   1.6s\n",
      "[CV 4/5] END model__C=10, model__gamma=0.01, pca__n_components=5;, score=0.840 total time=   1.6s\n",
      "[CV 1/5] END model__C=10, model__gamma=0.01, pca__n_components=15;, score=0.978 total time=   1.9s\n",
      "[CV 3/5] END model__C=10, model__gamma=0.01, pca__n_components=15;, score=0.978 total time=   1.9s\n",
      "[CV 5/5] END model__C=10, model__gamma=0.01, pca__n_components=15;, score=0.966 total time=   2.4s\n",
      "[CV 2/5] END model__C=10, model__gamma=0.01, pca__n_components=30;, score=0.990 total time=   3.1s\n",
      "[CV 4/5] END model__C=10, model__gamma=0.01, pca__n_components=30;, score=0.957 total time=   2.3s\n",
      "[CV 1/5] END model__C=10, model__gamma=0.1, pca__n_components=5;, score=0.937 total time=   1.8s\n",
      "[CV 3/5] END model__C=10, model__gamma=0.1, pca__n_components=5;, score=0.947 total time=   1.7s\n",
      "[CV 5/5] END model__C=10, model__gamma=0.1, pca__n_components=5;, score=0.913 total time=   1.6s\n",
      "Best parameter (CV score=0.988):\n",
      "{'model__C': 100, 'model__gamma': 0.01, 'pca__n_components': 30}\n"
     ]
    }
   ],
   "source": [
    "model = SVR(epsilon=0.2)\n",
    "param_grid = {\n",
    "    \"pca__n_components\": [5, 15, 30],\n",
    "    \"model__C\": [0.1, 1, 10, 100],\n",
    "    \"model__gamma\": [0.001, 0.01, 0.1, 1]\n",
    "}\n",
    "\n",
    "search = findBestHyperparameters(model,param_grid)"
   ]
  },
  {
   "cell_type": "markdown",
   "metadata": {
    "id": "-1-baaMtN8lp"
   },
   "source": [
    "## Saving Model\n",
    "[Index](#Index)\n",
    "\n",
    "[`model_persistence`](https://scikit-learn.org/stable/model_persistence.html)"
   ]
  },
  {
   "cell_type": "code",
   "execution_count": 109,
   "metadata": {
    "colab": {
     "base_uri": "https://localhost:8080/"
    },
    "executionInfo": {
     "elapsed": 335,
     "status": "ok",
     "timestamp": 1711648223516,
     "user": {
      "displayName": "Josue Huaman",
      "userId": "00979111574313897553"
     },
     "user_tz": 300
    },
    "id": "K0J5cK8vLT-q",
    "outputId": "a7942779-c8c4-4941-b385-288372e59ef4"
   },
   "outputs": [
    {
     "data": {
      "text/plain": [
       "['../models/fatModel.joblib']"
      ]
     },
     "execution_count": 109,
     "metadata": {},
     "output_type": "execute_result"
    }
   ],
   "source": [
    "dump(search, '../models/fatModel.joblib')"
   ]
  },
  {
   "cell_type": "markdown",
   "metadata": {
    "id": "Bhi4l3W7DoZi"
   },
   "source": [
    "# Testing\n",
    "[Index](#Index)"
   ]
  },
  {
   "cell_type": "code",
   "execution_count": 107,
   "metadata": {
    "colab": {
     "base_uri": "https://localhost:8080/"
    },
    "executionInfo": {
     "elapsed": 298,
     "status": "ok",
     "timestamp": 1711648391482,
     "user": {
      "displayName": "Josue Huaman",
      "userId": "00979111574313897553"
     },
     "user_tz": 300
    },
    "id": "QKRYYqkbEWM6",
    "outputId": "8fe792d4-8fda-4693-d97c-f9fc42041165"
   },
   "outputs": [
    {
     "name": "stdout",
     "output_type": "stream",
     "text": [
      "mean absolute error: 0.7133861952318588\n",
      "mean squared error: 8.871414268982882\n"
     ]
    }
   ],
   "source": [
    "y_pred = search.predict(X_test)\n",
    "print(f\"mean absolute error: {mean_absolute_error(y_test, y_pred)}\")\n",
    "print(f\"mean squared error: {mean_squared_error(y_test, y_pred)}\")"
   ]
  },
  {
   "cell_type": "code",
   "execution_count": 108,
   "metadata": {
    "colab": {
     "base_uri": "https://localhost:8080/",
     "height": 472
    },
    "executionInfo": {
     "elapsed": 106,
     "status": "ok",
     "timestamp": 1711633632018,
     "user": {
      "displayName": "Josue Huaman",
      "userId": "00979111574313897553"
     },
     "user_tz": 300
    },
    "id": "LKFzYTigSwwx",
    "outputId": "1f395c92-e940-4da3-bbe9-5fc31f1b47b5"
   },
   "outputs": [
    {
     "data": {
      "image/png": "[encoded data removed]",
      "text/plain": [
       "<Figure size 640x480 with 1 Axes>"
      ]
     },
     "metadata": {},
     "output_type": "display_data"
    }
   ],
   "source": [
    "# Scatter plot de los valores reales vs. predicciones\n",
    "plt.scatter(y_test, y_pred, color='blue', label='Real vs. Predicción')\n",
    "\n",
    "# Línea de identidad (pendiente 1, intercepto 0)\n",
    "x = np.linspace(min(y_test.min(), y_pred.min()), max(y_test.max(), y_pred.max()), 100)\n",
    "plt.plot(x, x, color='green', linestyle='--', label='Identidad (ideal)')\n",
    "\n",
    "# Calcular la regresión lineal entre y_test e y_pred para la línea de tendencia\n",
    "coef = np.polyfit(y_test,y_pred,1)\n",
    "poly1d_fn = np.poly1d(coef)\n",
    "plt.plot(x, poly1d_fn(x), color='red', label='Línea de Tendencia')\n",
    "\n",
    "# Etiquetas y leyenda\n",
    "plt.xlabel('Valores Reales')\n",
    "plt.ylabel('Valores Predichos')\n",
    "plt.title('Comparación de Valores Reales vs. Predicciones')\n",
    "plt.legend()\n",
    "plt.show()"
   ]
  }
 ],
 "metadata": {
  "colab": {
   "authorship_tag": "ABX9TyNk2t6eni6xh8H6vV23v24L",
   "mount_file_id": "1ys3noMtcUfXkJYURx8SV6-A6qoDVb3Dy",
   "provenance": [],
   "toc_visible": true
  },
  "kernelspec": {
   "display_name": "Python 3 (ipykernel)",
   "language": "python",
   "name": "python3"
  },
  "language_info": {
   "codemirror_mode": {
    "name": "ipython",
    "version": 3
   },
   "file_extension": ".py",
   "mimetype": "text/x-python",
   "name": "python",
   "nbconvert_exporter": "python",
   "pygments_lexer": "ipython3",
   "version": "3.11.0rc1"
  }
 },
 "nbformat": 4,
 "nbformat_minor": 4
}
