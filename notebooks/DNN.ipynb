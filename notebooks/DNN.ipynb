{
 "cells": [
  {
   "cell_type": "code",
   "execution_count": 69,
   "metadata": {
    "colab": {
     "base_uri": "https://localhost:8080/"
    },
    "executionInfo": {
     "elapsed": 338,
     "status": "ok",
     "timestamp": 1711655508574,
     "user": {
      "displayName": "Josue Huaman",
      "userId": "00979111574313897553"
     },
     "user_tz": 300
    },
    "id": "hLkP28FRGXAm",
    "outputId": "bab50892-654d-4aac-f73b-a01af047f454"
   },
   "outputs": [],
   "source": [
    "import pandas as pd\n",
    "import nltk\n",
    "import re\n",
    "import tensorflow as tf\n",
    "import matplotlib.pyplot as plt\n",
    "import seaborn as sns\n",
    "import numpy as np\n",
    "\n",
    "from sklearn.model_selection import train_test_split, GridSearchCV\n",
    "from sklearn.preprocessing import LabelEncoder\n",
    "from tensorflow.keras.models import Sequential\n",
    "from tensorflow.keras.layers import Dense, Normalization"
   ]
  },
  {
   "cell_type": "markdown",
   "metadata": {},
   "source": [
    "# Index\n",
    "* [Encoding the Target](#Encoding-the-Target)\n",
    "* [Split](#Split)\n",
    "* [Train the Model](#Train-the-Model)\n",
    "* [Testing](#Testing)\n",
    "* [Saving the Model](#Saving-the-Model)"
   ]
  },
  {
   "cell_type": "markdown",
   "metadata": {
    "id": "grmepQ1Vtlk1"
   },
   "source": [
    "# Encoding the Target\n",
    "\n",
    "[Index](#Index)\n",
    "\n",
    "[`regression`](https://www.tensorflow.org/tutorials/keras/regression)\n",
    "[`layers/Normalization`](https://www.tensorflow.org/api_docs/python/tf/keras/layers/Normalization)"
   ]
  },
  {
   "cell_type": "code",
   "execution_count": 70,
   "metadata": {
    "executionInfo": {
     "elapsed": 315,
     "status": "ok",
     "timestamp": 1711657137873,
     "user": {
      "displayName": "Josue Huaman",
      "userId": "00979111574313897553"
     },
     "user_tz": 300
    },
    "id": "f52SnqeJjfWZ"
   },
   "outputs": [],
   "source": [
    "dataframe=pd.read_csv('/tf/ML-project/data/processedDataframe.csv')"
   ]
  },
  {
   "cell_type": "code",
   "execution_count": 71,
   "metadata": {
    "executionInfo": {
     "elapsed": 283,
     "status": "ok",
     "timestamp": 1711657172587,
     "user": {
      "displayName": "Josue Huaman",
      "userId": "00979111574313897553"
     },
     "user_tz": 300
    },
    "id": "CYB3r2Tmtxf8"
   },
   "outputs": [],
   "source": [
    "# Ejemplo con LabelEncoder\n",
    "encoder = LabelEncoder()\n",
    "y_encoded = encoder.fit_transform(dataframe[\"Category\"])\n",
    "# Ahora `y_encoded` contiene valores numéricos para cada animal"
   ]
  },
  {
   "cell_type": "code",
   "execution_count": 72,
   "metadata": {},
   "outputs": [
    {
     "data": {
      "text/html": [
       "<div>\n",
       "<style scoped>\n",
       "    .dataframe tbody tr th:only-of-type {\n",
       "        vertical-align: middle;\n",
       "    }\n",
       "\n",
       "    .dataframe tbody tr th {\n",
       "        vertical-align: top;\n",
       "    }\n",
       "\n",
       "    .dataframe thead th {\n",
       "        text-align: right;\n",
       "    }\n",
       "</style>\n",
       "<table border=\"1\" class=\"dataframe\">\n",
       "  <thead>\n",
       "    <tr style=\"text-align: right;\">\n",
       "      <th></th>\n",
       "      <th>Nutrient Data Bank Number</th>\n",
       "      <th>Data.Alpha Carotene</th>\n",
       "      <th>Data.Ash</th>\n",
       "      <th>Data.Beta Carotene</th>\n",
       "      <th>Data.Beta Cryptoxanthin</th>\n",
       "      <th>Data.Carbohydrate</th>\n",
       "      <th>Data.Cholesterol</th>\n",
       "      <th>Data.Choline</th>\n",
       "      <th>Data.Fiber</th>\n",
       "      <th>Data.Kilocalories</th>\n",
       "      <th>...</th>\n",
       "      <th>Data.Major Minerals.Potassium</th>\n",
       "      <th>Data.Major Minerals.Sodium</th>\n",
       "      <th>Data.Major Minerals.Zinc</th>\n",
       "      <th>Data.Vitamins.Vitamin A - IU</th>\n",
       "      <th>Data.Vitamins.Vitamin A - RAE</th>\n",
       "      <th>Data.Vitamins.Vitamin B12</th>\n",
       "      <th>Data.Vitamins.Vitamin B6</th>\n",
       "      <th>Data.Vitamins.Vitamin C</th>\n",
       "      <th>Data.Vitamins.Vitamin E</th>\n",
       "      <th>Data.Vitamins.Vitamin K</th>\n",
       "    </tr>\n",
       "  </thead>\n",
       "  <tbody>\n",
       "    <tr>\n",
       "      <th>0</th>\n",
       "      <td>1001</td>\n",
       "      <td>0</td>\n",
       "      <td>2.11</td>\n",
       "      <td>158</td>\n",
       "      <td>0</td>\n",
       "      <td>0.06</td>\n",
       "      <td>215</td>\n",
       "      <td>19</td>\n",
       "      <td>0.0</td>\n",
       "      <td>717</td>\n",
       "      <td>...</td>\n",
       "      <td>24</td>\n",
       "      <td>576</td>\n",
       "      <td>0.09</td>\n",
       "      <td>2499</td>\n",
       "      <td>684</td>\n",
       "      <td>0.17</td>\n",
       "      <td>0.003</td>\n",
       "      <td>0.0</td>\n",
       "      <td>2.32</td>\n",
       "      <td>7.0</td>\n",
       "    </tr>\n",
       "    <tr>\n",
       "      <th>1</th>\n",
       "      <td>1002</td>\n",
       "      <td>0</td>\n",
       "      <td>2.11</td>\n",
       "      <td>158</td>\n",
       "      <td>0</td>\n",
       "      <td>0.06</td>\n",
       "      <td>219</td>\n",
       "      <td>19</td>\n",
       "      <td>0.0</td>\n",
       "      <td>717</td>\n",
       "      <td>...</td>\n",
       "      <td>26</td>\n",
       "      <td>827</td>\n",
       "      <td>0.05</td>\n",
       "      <td>2499</td>\n",
       "      <td>684</td>\n",
       "      <td>0.13</td>\n",
       "      <td>0.003</td>\n",
       "      <td>0.0</td>\n",
       "      <td>2.32</td>\n",
       "      <td>7.0</td>\n",
       "    </tr>\n",
       "  </tbody>\n",
       "</table>\n",
       "<p>2 rows × 41 columns</p>\n",
       "</div>"
      ],
      "text/plain": [
       "   Nutrient Data Bank Number  Data.Alpha Carotene  Data.Ash  \\\n",
       "0                       1001                    0      2.11   \n",
       "1                       1002                    0      2.11   \n",
       "\n",
       "   Data.Beta Carotene  Data.Beta Cryptoxanthin  Data.Carbohydrate  \\\n",
       "0                 158                        0               0.06   \n",
       "1                 158                        0               0.06   \n",
       "\n",
       "   Data.Cholesterol  Data.Choline  Data.Fiber  Data.Kilocalories  ...  \\\n",
       "0               215            19         0.0                717  ...   \n",
       "1               219            19         0.0                717  ...   \n",
       "\n",
       "   Data.Major Minerals.Potassium  Data.Major Minerals.Sodium  \\\n",
       "0                             24                         576   \n",
       "1                             26                         827   \n",
       "\n",
       "   Data.Major Minerals.Zinc  Data.Vitamins.Vitamin A - IU  \\\n",
       "0                      0.09                          2499   \n",
       "1                      0.05                          2499   \n",
       "\n",
       "   Data.Vitamins.Vitamin A - RAE  Data.Vitamins.Vitamin B12  \\\n",
       "0                            684                       0.17   \n",
       "1                            684                       0.13   \n",
       "\n",
       "   Data.Vitamins.Vitamin B6  Data.Vitamins.Vitamin C  Data.Vitamins.Vitamin E  \\\n",
       "0                     0.003                      0.0                     2.32   \n",
       "1                     0.003                      0.0                     2.32   \n",
       "\n",
       "   Data.Vitamins.Vitamin K  \n",
       "0                      7.0  \n",
       "1                      7.0  \n",
       "\n",
       "[2 rows x 41 columns]"
      ]
     },
     "execution_count": 72,
     "metadata": {},
     "output_type": "execute_result"
    }
   ],
   "source": [
    "dataframe.drop(columns=[\"Category\"]).head(2)"
   ]
  },
  {
   "cell_type": "markdown",
   "metadata": {
    "id": "b53G5dvAtu5Y"
   },
   "source": [
    "# Split\n",
    "[Index](#Index)"
   ]
  },
  {
   "cell_type": "code",
   "execution_count": 73,
   "metadata": {
    "executionInfo": {
     "elapsed": 324,
     "status": "ok",
     "timestamp": 1711657505255,
     "user": {
      "displayName": "Josue Huaman",
      "userId": "00979111574313897553"
     },
     "user_tz": 300
    },
    "id": "LlpUUfTdoGxs"
   },
   "outputs": [],
   "source": [
    "X, y = dataframe.drop(columns=[\"Category\"]), y_encoded\n",
    "\n",
    "X_train, X_test, y_train, y_test = train_test_split(\n",
    "    X, y, test_size=0.33, random_state=42)"
   ]
  },
  {
   "cell_type": "markdown",
   "metadata": {
    "id": "aIkTFNeftoPD"
   },
   "source": [
    "# Train the Model\n",
    "[Index](#Index)"
   ]
  },
  {
   "cell_type": "code",
   "execution_count": 74,
   "metadata": {
    "colab": {
     "base_uri": "https://localhost:8080/"
    },
    "executionInfo": {
     "elapsed": 1052,
     "status": "ok",
     "timestamp": 1711657813552,
     "user": {
      "displayName": "Josue Huaman",
      "userId": "00979111574313897553"
     },
     "user_tz": 300
    },
    "id": "Fz0EanBpV5SB",
    "outputId": "9fb1e89c-c616-483e-9779-f30dffceddd0"
   },
   "outputs": [
    {
     "name": "stderr",
     "output_type": "stream",
     "text": [
      "/usr/local/lib/python3.11/dist-packages/keras/src/layers/preprocessing/normalization.py:99: UserWarning: Do not pass an `input_shape`/`input_dim` argument to a layer. When using Sequential models, prefer using an `Input(shape)` object as the first layer in the model instead.\n",
      "  super().__init__(**kwargs)\n"
     ]
    },
    {
     "data": {
      "text/html": [
       "<pre style=\"white-space:pre;overflow-x:auto;line-height:normal;font-family:Menlo,'DejaVu Sans Mono',consolas,'Courier New',monospace\"><span style=\"font-weight: bold\">Model: \"sequential_6\"</span>\n",
       "</pre>\n"
      ],
      "text/plain": [
       "\u001b[1mModel: \"sequential_6\"\u001b[0m\n"
      ]
     },
     "metadata": {},
     "output_type": "display_data"
    },
    {
     "data": {
      "text/html": [
       "<pre style=\"white-space:pre;overflow-x:auto;line-height:normal;font-family:Menlo,'DejaVu Sans Mono',consolas,'Courier New',monospace\">┏━━━━━━━━━━━━━━━━━━━━━━━━━━━━━━━━━┳━━━━━━━━━━━━━━━━━━━━━━━━┳━━━━━━━━━━━━━━━┓\n",
       "┃<span style=\"font-weight: bold\"> Layer (type)                    </span>┃<span style=\"font-weight: bold\"> Output Shape           </span>┃<span style=\"font-weight: bold\">       Param # </span>┃\n",
       "┡━━━━━━━━━━━━━━━━━━━━━━━━━━━━━━━━━╇━━━━━━━━━━━━━━━━━━━━━━━━╇━━━━━━━━━━━━━━━┩\n",
       "│ normalization_7 (<span style=\"color: #0087ff; text-decoration-color: #0087ff\">Normalization</span>) │ (<span style=\"color: #00d7ff; text-decoration-color: #00d7ff\">None</span>, <span style=\"color: #00af00; text-decoration-color: #00af00\">41</span>)             │            <span style=\"color: #00af00; text-decoration-color: #00af00\">83</span> │\n",
       "├─────────────────────────────────┼────────────────────────┼───────────────┤\n",
       "│ dense_26 (<span style=\"color: #0087ff; text-decoration-color: #0087ff\">Dense</span>)                │ (<span style=\"color: #00d7ff; text-decoration-color: #00d7ff\">None</span>, <span style=\"color: #00af00; text-decoration-color: #00af00\">128</span>)            │         <span style=\"color: #00af00; text-decoration-color: #00af00\">5,376</span> │\n",
       "├─────────────────────────────────┼────────────────────────┼───────────────┤\n",
       "│ dense_27 (<span style=\"color: #0087ff; text-decoration-color: #0087ff\">Dense</span>)                │ (<span style=\"color: #00d7ff; text-decoration-color: #00d7ff\">None</span>, <span style=\"color: #00af00; text-decoration-color: #00af00\">256</span>)            │        <span style=\"color: #00af00; text-decoration-color: #00af00\">33,024</span> │\n",
       "├─────────────────────────────────┼────────────────────────┼───────────────┤\n",
       "│ dense_28 (<span style=\"color: #0087ff; text-decoration-color: #0087ff\">Dense</span>)                │ (<span style=\"color: #00d7ff; text-decoration-color: #00d7ff\">None</span>, <span style=\"color: #00af00; text-decoration-color: #00af00\">256</span>)            │        <span style=\"color: #00af00; text-decoration-color: #00af00\">65,792</span> │\n",
       "├─────────────────────────────────┼────────────────────────┼───────────────┤\n",
       "│ dense_29 (<span style=\"color: #0087ff; text-decoration-color: #0087ff\">Dense</span>)                │ (<span style=\"color: #00d7ff; text-decoration-color: #00d7ff\">None</span>, <span style=\"color: #00af00; text-decoration-color: #00af00\">128</span>)            │        <span style=\"color: #00af00; text-decoration-color: #00af00\">32,896</span> │\n",
       "├─────────────────────────────────┼────────────────────────┼───────────────┤\n",
       "│ dense_30 (<span style=\"color: #0087ff; text-decoration-color: #0087ff\">Dense</span>)                │ (<span style=\"color: #00d7ff; text-decoration-color: #00d7ff\">None</span>, <span style=\"color: #00af00; text-decoration-color: #00af00\">669</span>)            │        <span style=\"color: #00af00; text-decoration-color: #00af00\">86,301</span> │\n",
       "└─────────────────────────────────┴────────────────────────┴───────────────┘\n",
       "</pre>\n"
      ],
      "text/plain": [
       "┏━━━━━━━━━━━━━━━━━━━━━━━━━━━━━━━━━┳━━━━━━━━━━━━━━━━━━━━━━━━┳━━━━━━━━━━━━━━━┓\n",
       "┃\u001b[1m \u001b[0m\u001b[1mLayer (type)                   \u001b[0m\u001b[1m \u001b[0m┃\u001b[1m \u001b[0m\u001b[1mOutput Shape          \u001b[0m\u001b[1m \u001b[0m┃\u001b[1m \u001b[0m\u001b[1m      Param #\u001b[0m\u001b[1m \u001b[0m┃\n",
       "┡━━━━━━━━━━━━━━━━━━━━━━━━━━━━━━━━━╇━━━━━━━━━━━━━━━━━━━━━━━━╇━━━━━━━━━━━━━━━┩\n",
       "│ normalization_7 (\u001b[38;5;33mNormalization\u001b[0m) │ (\u001b[38;5;45mNone\u001b[0m, \u001b[38;5;34m41\u001b[0m)             │            \u001b[38;5;34m83\u001b[0m │\n",
       "├─────────────────────────────────┼────────────────────────┼───────────────┤\n",
       "│ dense_26 (\u001b[38;5;33mDense\u001b[0m)                │ (\u001b[38;5;45mNone\u001b[0m, \u001b[38;5;34m128\u001b[0m)            │         \u001b[38;5;34m5,376\u001b[0m │\n",
       "├─────────────────────────────────┼────────────────────────┼───────────────┤\n",
       "│ dense_27 (\u001b[38;5;33mDense\u001b[0m)                │ (\u001b[38;5;45mNone\u001b[0m, \u001b[38;5;34m256\u001b[0m)            │        \u001b[38;5;34m33,024\u001b[0m │\n",
       "├─────────────────────────────────┼────────────────────────┼───────────────┤\n",
       "│ dense_28 (\u001b[38;5;33mDense\u001b[0m)                │ (\u001b[38;5;45mNone\u001b[0m, \u001b[38;5;34m256\u001b[0m)            │        \u001b[38;5;34m65,792\u001b[0m │\n",
       "├─────────────────────────────────┼────────────────────────┼───────────────┤\n",
       "│ dense_29 (\u001b[38;5;33mDense\u001b[0m)                │ (\u001b[38;5;45mNone\u001b[0m, \u001b[38;5;34m128\u001b[0m)            │        \u001b[38;5;34m32,896\u001b[0m │\n",
       "├─────────────────────────────────┼────────────────────────┼───────────────┤\n",
       "│ dense_30 (\u001b[38;5;33mDense\u001b[0m)                │ (\u001b[38;5;45mNone\u001b[0m, \u001b[38;5;34m669\u001b[0m)            │        \u001b[38;5;34m86,301\u001b[0m │\n",
       "└─────────────────────────────────┴────────────────────────┴───────────────┘\n"
      ]
     },
     "metadata": {},
     "output_type": "display_data"
    },
    {
     "data": {
      "text/html": [
       "<pre style=\"white-space:pre;overflow-x:auto;line-height:normal;font-family:Menlo,'DejaVu Sans Mono',consolas,'Courier New',monospace\"><span style=\"font-weight: bold\"> Total params: </span><span style=\"color: #00af00; text-decoration-color: #00af00\">223,472</span> (872.94 KB)\n",
       "</pre>\n"
      ],
      "text/plain": [
       "\u001b[1m Total params: \u001b[0m\u001b[38;5;34m223,472\u001b[0m (872.94 KB)\n"
      ]
     },
     "metadata": {},
     "output_type": "display_data"
    },
    {
     "data": {
      "text/html": [
       "<pre style=\"white-space:pre;overflow-x:auto;line-height:normal;font-family:Menlo,'DejaVu Sans Mono',consolas,'Courier New',monospace\"><span style=\"font-weight: bold\"> Trainable params: </span><span style=\"color: #00af00; text-decoration-color: #00af00\">223,389</span> (872.61 KB)\n",
       "</pre>\n"
      ],
      "text/plain": [
       "\u001b[1m Trainable params: \u001b[0m\u001b[38;5;34m223,389\u001b[0m (872.61 KB)\n"
      ]
     },
     "metadata": {},
     "output_type": "display_data"
    },
    {
     "data": {
      "text/html": [
       "<pre style=\"white-space:pre;overflow-x:auto;line-height:normal;font-family:Menlo,'DejaVu Sans Mono',consolas,'Courier New',monospace\"><span style=\"font-weight: bold\"> Non-trainable params: </span><span style=\"color: #00af00; text-decoration-color: #00af00\">83</span> (336.00 B)\n",
       "</pre>\n"
      ],
      "text/plain": [
       "\u001b[1m Non-trainable params: \u001b[0m\u001b[38;5;34m83\u001b[0m (336.00 B)\n"
      ]
     },
     "metadata": {},
     "output_type": "display_data"
    }
   ],
   "source": [
    "# Número de características de entrada y clases de salida\n",
    "n_features = len(X.columns)\n",
    "n_classes = pd.Series(y_encoded).nunique()\n",
    "\n",
    "# Crear el modelo\n",
    "model = Sequential([\n",
    "    Normalization(input_shape=(n_features,)),  # Capa de normalización\n",
    "    Dense(128, activation='relu'),  # Primera capa oculta\n",
    "    Dense(256, activation='relu'),  # Segunda capa oculta\n",
    "    Dense(256, activation='relu'),  # Segunda capa oculta\n",
    "    Dense(128, activation='relu'),  # Tercera capa oculta\n",
    "    Dense(n_classes, activation='softmax')  # Capa de salida\n",
    "])\n",
    "\n",
    "# Antes de compilar el modelo, debes adaptar la capa de Normalization a tus datos\n",
    "# Esto calculará la media y la desviación estándar de tus datos de entrenamiento\n",
    "# y los usará para la normalización durante el entrenamiento e inferencia.\n",
    "\n",
    "# Supongamos que 'X_train' son tus datos de entrenamiento\n",
    "model.layers[0].adapt(X_train.to_numpy())\n",
    "\n",
    "# Compilar el modelo\n",
    "model.compile(optimizer='adam',\n",
    "              loss='sparse_categorical_crossentropy',\n",
    "              metrics=['accuracy'])\n",
    "\n",
    "# Resumen del modelo\n",
    "model.summary()\n",
    "\n",
    "# Entrenar el modelo como antes\n",
    "# model.fit(X_train, y_train, epochs=30, batch_size=32, validation_split=0.2)\n"
   ]
  },
  {
   "cell_type": "code",
   "execution_count": 75,
   "metadata": {
    "colab": {
     "base_uri": "https://localhost:8080/"
    },
    "executionInfo": {
     "elapsed": 22492,
     "status": "ok",
     "timestamp": 1711657902258,
     "user": {
      "displayName": "Josue Huaman",
      "userId": "00979111574313897553"
     },
     "user_tz": 300
    },
    "id": "-klMiDOlwmlm",
    "outputId": "91ee071d-5bf9-43dc-8d53-c07875efc4f3"
   },
   "outputs": [
    {
     "name": "stdout",
     "output_type": "stream",
     "text": [
      "Epoch 1/30\n",
      "\u001b[1m125/125\u001b[0m \u001b[32m━━━━━━━━━━━━━━━━━━━━\u001b[0m\u001b[37m\u001b[0m \u001b[1m5s\u001b[0m 13ms/step - accuracy: 0.1291 - loss: 5.5008 - val_accuracy: 0.2807 - val_loss: 4.2886\n",
      "Epoch 2/30\n",
      "\u001b[1m125/125\u001b[0m \u001b[32m━━━━━━━━━━━━━━━━━━━━\u001b[0m\u001b[37m\u001b[0m \u001b[1m1s\u001b[0m 11ms/step - accuracy: 0.2809 - loss: 3.6341 - val_accuracy: 0.3461 - val_loss: 3.7139\n",
      "Epoch 3/30\n",
      "\u001b[1m125/125\u001b[0m \u001b[32m━━━━━━━━━━━━━━━━━━━━\u001b[0m\u001b[37m\u001b[0m \u001b[1m1s\u001b[0m 8ms/step - accuracy: 0.3801 - loss: 2.8764 - val_accuracy: 0.4155 - val_loss: 3.3801\n",
      "Epoch 4/30\n",
      "\u001b[1m125/125\u001b[0m \u001b[32m━━━━━━━━━━━━━━━━━━━━\u001b[0m\u001b[37m\u001b[0m \u001b[1m1s\u001b[0m 10ms/step - accuracy: 0.4467 - loss: 2.3722 - val_accuracy: 0.4658 - val_loss: 3.3321\n",
      "Epoch 5/30\n",
      "\u001b[1m125/125\u001b[0m \u001b[32m━━━━━━━━━━━━━━━━━━━━\u001b[0m\u001b[37m\u001b[0m \u001b[1m1s\u001b[0m 9ms/step - accuracy: 0.5109 - loss: 2.0287 - val_accuracy: 0.4799 - val_loss: 3.2674\n",
      "Epoch 6/30\n",
      "\u001b[1m125/125\u001b[0m \u001b[32m━━━━━━━━━━━━━━━━━━━━\u001b[0m\u001b[37m\u001b[0m \u001b[1m1s\u001b[0m 8ms/step - accuracy: 0.5551 - loss: 1.7570 - val_accuracy: 0.5221 - val_loss: 3.2543\n",
      "Epoch 7/30\n",
      "\u001b[1m125/125\u001b[0m \u001b[32m━━━━━━━━━━━━━━━━━━━━\u001b[0m\u001b[37m\u001b[0m \u001b[1m1s\u001b[0m 10ms/step - accuracy: 0.6129 - loss: 1.4631 - val_accuracy: 0.5553 - val_loss: 3.3317\n",
      "Epoch 8/30\n",
      "\u001b[1m125/125\u001b[0m \u001b[32m━━━━━━━━━━━━━━━━━━━━\u001b[0m\u001b[37m\u001b[0m \u001b[1m1s\u001b[0m 8ms/step - accuracy: 0.6380 - loss: 1.3153 - val_accuracy: 0.5694 - val_loss: 3.3973\n",
      "Epoch 9/30\n",
      "\u001b[1m125/125\u001b[0m \u001b[32m━━━━━━━━━━━━━━━━━━━━\u001b[0m\u001b[37m\u001b[0m \u001b[1m1s\u001b[0m 8ms/step - accuracy: 0.6668 - loss: 1.1645 - val_accuracy: 0.5634 - val_loss: 3.4624\n",
      "Epoch 10/30\n",
      "\u001b[1m125/125\u001b[0m \u001b[32m━━━━━━━━━━━━━━━━━━━━\u001b[0m\u001b[37m\u001b[0m \u001b[1m1s\u001b[0m 9ms/step - accuracy: 0.6956 - loss: 1.0561 - val_accuracy: 0.5936 - val_loss: 3.5851\n",
      "Epoch 11/30\n",
      "\u001b[1m125/125\u001b[0m \u001b[32m━━━━━━━━━━━━━━━━━━━━\u001b[0m\u001b[37m\u001b[0m \u001b[1m1s\u001b[0m 10ms/step - accuracy: 0.7314 - loss: 0.9281 - val_accuracy: 0.6056 - val_loss: 3.9266\n",
      "Epoch 12/30\n",
      "\u001b[1m125/125\u001b[0m \u001b[32m━━━━━━━━━━━━━━━━━━━━\u001b[0m\u001b[37m\u001b[0m \u001b[1m1s\u001b[0m 11ms/step - accuracy: 0.7396 - loss: 0.8471 - val_accuracy: 0.6167 - val_loss: 3.9508\n",
      "Epoch 13/30\n",
      "\u001b[1m125/125\u001b[0m \u001b[32m━━━━━━━━━━━━━━━━━━━━\u001b[0m\u001b[37m\u001b[0m \u001b[1m1s\u001b[0m 10ms/step - accuracy: 0.7644 - loss: 0.7615 - val_accuracy: 0.5966 - val_loss: 3.9549\n",
      "Epoch 14/30\n",
      "\u001b[1m125/125\u001b[0m \u001b[32m━━━━━━━━━━━━━━━━━━━━\u001b[0m\u001b[37m\u001b[0m \u001b[1m1s\u001b[0m 9ms/step - accuracy: 0.7734 - loss: 0.7378 - val_accuracy: 0.5956 - val_loss: 4.1053\n",
      "Epoch 15/30\n",
      "\u001b[1m125/125\u001b[0m \u001b[32m━━━━━━━━━━━━━━━━━━━━\u001b[0m\u001b[37m\u001b[0m \u001b[1m1s\u001b[0m 9ms/step - accuracy: 0.7979 - loss: 0.6376 - val_accuracy: 0.6348 - val_loss: 4.1281\n",
      "Epoch 16/30\n",
      "\u001b[1m125/125\u001b[0m \u001b[32m━━━━━━━━━━━━━━━━━━━━\u001b[0m\u001b[37m\u001b[0m \u001b[1m1s\u001b[0m 11ms/step - accuracy: 0.8365 - loss: 0.5400 - val_accuracy: 0.6227 - val_loss: 4.2958\n",
      "Epoch 17/30\n",
      "\u001b[1m125/125\u001b[0m \u001b[32m━━━━━━━━━━━━━━━━━━━━\u001b[0m\u001b[37m\u001b[0m \u001b[1m1s\u001b[0m 11ms/step - accuracy: 0.8443 - loss: 0.5055 - val_accuracy: 0.6187 - val_loss: 4.3022\n",
      "Epoch 18/30\n",
      "\u001b[1m125/125\u001b[0m \u001b[32m━━━━━━━━━━━━━━━━━━━━\u001b[0m\u001b[37m\u001b[0m \u001b[1m1s\u001b[0m 9ms/step - accuracy: 0.8306 - loss: 0.5148 - val_accuracy: 0.6278 - val_loss: 4.4576\n",
      "Epoch 19/30\n",
      "\u001b[1m125/125\u001b[0m \u001b[32m━━━━━━━━━━━━━━━━━━━━\u001b[0m\u001b[37m\u001b[0m \u001b[1m1s\u001b[0m 9ms/step - accuracy: 0.8540 - loss: 0.4636 - val_accuracy: 0.6177 - val_loss: 4.6810\n",
      "Epoch 20/30\n",
      "\u001b[1m125/125\u001b[0m \u001b[32m━━━━━━━━━━━━━━━━━━━━\u001b[0m\u001b[37m\u001b[0m \u001b[1m1s\u001b[0m 9ms/step - accuracy: 0.8548 - loss: 0.4505 - val_accuracy: 0.6318 - val_loss: 4.7215\n",
      "Epoch 21/30\n",
      "\u001b[1m125/125\u001b[0m \u001b[32m━━━━━━━━━━━━━━━━━━━━\u001b[0m\u001b[37m\u001b[0m \u001b[1m1s\u001b[0m 11ms/step - accuracy: 0.8872 - loss: 0.3513 - val_accuracy: 0.6368 - val_loss: 4.8628\n",
      "Epoch 22/30\n",
      "\u001b[1m125/125\u001b[0m \u001b[32m━━━━━━━━━━━━━━━━━━━━\u001b[0m\u001b[37m\u001b[0m \u001b[1m3s\u001b[0m 13ms/step - accuracy: 0.8898 - loss: 0.3579 - val_accuracy: 0.6308 - val_loss: 4.7681\n",
      "Epoch 23/30\n",
      "\u001b[1m125/125\u001b[0m \u001b[32m━━━━━━━━━━━━━━━━━━━━\u001b[0m\u001b[37m\u001b[0m \u001b[1m2s\u001b[0m 13ms/step - accuracy: 0.8793 - loss: 0.3675 - val_accuracy: 0.6469 - val_loss: 4.6115\n",
      "Epoch 24/30\n",
      "\u001b[1m125/125\u001b[0m \u001b[32m━━━━━━━━━━━━━━━━━━━━\u001b[0m\u001b[37m\u001b[0m \u001b[1m2s\u001b[0m 13ms/step - accuracy: 0.9090 - loss: 0.3118 - val_accuracy: 0.6338 - val_loss: 4.9228\n",
      "Epoch 25/30\n",
      "\u001b[1m125/125\u001b[0m \u001b[32m━━━━━━━━━━━━━━━━━━━━\u001b[0m\u001b[37m\u001b[0m \u001b[1m1s\u001b[0m 11ms/step - accuracy: 0.8979 - loss: 0.3226 - val_accuracy: 0.6087 - val_loss: 5.0257\n",
      "Epoch 26/30\n",
      "\u001b[1m125/125\u001b[0m \u001b[32m━━━━━━━━━━━━━━━━━━━━\u001b[0m\u001b[37m\u001b[0m \u001b[1m2s\u001b[0m 13ms/step - accuracy: 0.9046 - loss: 0.2970 - val_accuracy: 0.6398 - val_loss: 4.8306\n",
      "Epoch 27/30\n",
      "\u001b[1m125/125\u001b[0m \u001b[32m━━━━━━━━━━━━━━━━━━━━\u001b[0m\u001b[37m\u001b[0m \u001b[1m2s\u001b[0m 16ms/step - accuracy: 0.9010 - loss: 0.3178 - val_accuracy: 0.6388 - val_loss: 5.1360\n",
      "Epoch 28/30\n",
      "\u001b[1m125/125\u001b[0m \u001b[32m━━━━━━━━━━━━━━━━━━━━\u001b[0m\u001b[37m\u001b[0m \u001b[1m2s\u001b[0m 19ms/step - accuracy: 0.8772 - loss: 0.4386 - val_accuracy: 0.6459 - val_loss: 5.0522\n",
      "Epoch 29/30\n",
      "\u001b[1m125/125\u001b[0m \u001b[32m━━━━━━━━━━━━━━━━━━━━\u001b[0m\u001b[37m\u001b[0m \u001b[1m1s\u001b[0m 11ms/step - accuracy: 0.9168 - loss: 0.2716 - val_accuracy: 0.6378 - val_loss: 5.1806\n",
      "Epoch 30/30\n",
      "\u001b[1m125/125\u001b[0m \u001b[32m━━━━━━━━━━━━━━━━━━━━\u001b[0m\u001b[37m\u001b[0m \u001b[1m2s\u001b[0m 15ms/step - accuracy: 0.9108 - loss: 0.2747 - val_accuracy: 0.6419 - val_loss: 5.2697\n"
     ]
    }
   ],
   "source": [
    "# Entrenar el modelo\n",
    "history = model.fit(X_train, y_train,\n",
    "                    epochs=30,\n",
    "                    batch_size=32,\n",
    "                    validation_split=0.2)  # Usa el 20% de los datos para validación\n"
   ]
  },
  {
   "cell_type": "markdown",
   "metadata": {},
   "source": [
    "# Testing\n",
    "[Index](#Index)"
   ]
  },
  {
   "cell_type": "code",
   "execution_count": 76,
   "metadata": {
    "colab": {
     "base_uri": "https://localhost:8080/"
    },
    "executionInfo": {
     "elapsed": 348,
     "status": "ok",
     "timestamp": 1711657910721,
     "user": {
      "displayName": "Josue Huaman",
      "userId": "00979111574313897553"
     },
     "user_tz": 300
    },
    "id": "EnfWfBXKwoA6",
    "outputId": "5992df9a-94e1-4a7e-a37c-e73a1a2fe327"
   },
   "outputs": [
    {
     "name": "stdout",
     "output_type": "stream",
     "text": [
      "\u001b[1m77/77\u001b[0m \u001b[32m━━━━━━━━━━━━━━━━━━━━\u001b[0m\u001b[37m\u001b[0m \u001b[1m0s\u001b[0m 5ms/step - accuracy: 0.6213 - loss: 4.9715\n",
      "Test Loss: 4.8885111808776855\n",
      "Test Accuracy: 0.6232120990753174\n"
     ]
    }
   ],
   "source": [
    "# Evaluar el modelo con el conjunto de datos de prueba\n",
    "test_loss, test_accuracy = model.evaluate(X_test, y_test)\n",
    "\n",
    "print(f\"Test Loss: {test_loss}\")\n",
    "print(f\"Test Accuracy: {test_accuracy}\")\n"
   ]
  },
  {
   "cell_type": "markdown",
   "metadata": {},
   "source": [
    "# Saving the Model"
   ]
  },
  {
   "cell_type": "code",
   "execution_count": 78,
   "metadata": {},
   "outputs": [],
   "source": [
    "model.save('../models/my_model.keras')"
   ]
  }
 ],
 "metadata": {
  "colab": {
   "authorship_tag": "ABX9TyNk2t6eni6xh8H6vV23v24L",
   "mount_file_id": "1ys3noMtcUfXkJYURx8SV6-A6qoDVb3Dy",
   "provenance": [],
   "toc_visible": true
  },
  "kernelspec": {
   "display_name": "Python 3 (ipykernel)",
   "language": "python",
   "name": "python3"
  },
  "language_info": {
   "codemirror_mode": {
    "name": "ipython",
    "version": 3
   },
   "file_extension": ".py",
   "mimetype": "text/x-python",
   "name": "python",
   "nbconvert_exporter": "python",
   "pygments_lexer": "ipython3",
   "version": "3.11.0rc1"
  }
 },
 "nbformat": 4,
 "nbformat_minor": 4
}
