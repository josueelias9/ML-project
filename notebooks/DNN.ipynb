{
 "cells": [
  {
   "cell_type": "code",
   "execution_count": 69,
   "metadata": {
    "colab": {
     "base_uri": "https://localhost:8080/"
    },
    "executionInfo": {
     "elapsed": 338,
     "status": "ok",
     "timestamp": 1711655508574,
     "user": {
      "displayName": "Josue Huaman",
      "userId": "00979111574313897553"
     },
     "user_tz": 300
    },
    "id": "hLkP28FRGXAm",
    "outputId": "bab50892-654d-4aac-f73b-a01af047f454"
   },
   "outputs": [
    {
     "name": "stderr",
     "output_type": "stream",
     "text": [
      "[nltk_data] Downloading package wordnet to /root/nltk_data...\n",
      "[nltk_data]   Package wordnet is already up-to-date!\n",
      "[nltk_data] Downloading package omw-1.4 to /root/nltk_data...\n",
      "[nltk_data]   Package omw-1.4 is already up-to-date!\n"
     ]
    },
    {
     "data": {
      "text/plain": [
       "True"
      ]
     },
     "execution_count": 69,
     "metadata": {},
     "output_type": "execute_result"
    }
   ],
   "source": [
    "import pandas as pd\n",
    "import nltk\n",
    "import re\n",
    "import tensorflow as tf\n",
    "import matplotlib.pyplot as plt\n",
    "import seaborn as sns\n",
    "import numpy as np\n",
    "\n",
    "from sklearn.model_selection import train_test_split, GridSearchCV\n",
    "from sklearn.pipeline import Pipeline\n",
    "from sklearn.preprocessing import StandardScaler\n",
    "from sklearn.decomposition import PCA\n",
    "from sklearn.ensemble import GradientBoostingRegressor\n",
    "from sklearn.metrics import mean_squared_log_error, mean_absolute_error\n",
    "from nltk.stem import WordNetLemmatizer\n",
    "from joblib import dump, load\n",
    "from tensorflow.keras.models import Sequential\n",
    "from tensorflow.keras.layers import Dense, Normalization\n",
    "\n",
    "nltk.download('wordnet')\n",
    "nltk.download('omw-1.4')"
   ]
  },
  {
   "cell_type": "markdown",
   "metadata": {},
   "source": [
    "# Index\n",
    "* [DNN: Predicting Category Type](#DNN:-Predicting-Category-Type)\n",
    "    * [Encoding the Target](#Encoding-the-Target)\n",
    "    * [Split](#Split)\n",
    "    * [Train the Model](#Train-the-Model)"
   ]
  },
  {
   "cell_type": "markdown",
   "metadata": {
    "id": "I_cQoh39NiHQ"
   },
   "source": [
    "# DNN: Predicting Category Type\n",
    "[Index](#Index)\n",
    "\n",
    "[`regression`](https://www.tensorflow.org/tutorials/keras/regression)\n",
    "[`layers/Normalization`](https://www.tensorflow.org/api_docs/python/tf/keras/layers/Normalization)"
   ]
  },
  {
   "cell_type": "markdown",
   "metadata": {
    "id": "grmepQ1Vtlk1"
   },
   "source": [
    "## Encoding the Target\n",
    "[Index](#Index)"
   ]
  },
  {
   "cell_type": "code",
   "execution_count": null,
   "metadata": {
    "executionInfo": {
     "elapsed": 315,
     "status": "ok",
     "timestamp": 1711657137873,
     "user": {
      "displayName": "Josue Huaman",
      "userId": "00979111574313897553"
     },
     "user_tz": 300
    },
    "id": "f52SnqeJjfWZ"
   },
   "outputs": [],
   "source": [
    "dataframe=pd.read_csv('/content/processedDataframe.csv')"
   ]
  },
  {
   "cell_type": "code",
   "execution_count": null,
   "metadata": {
    "executionInfo": {
     "elapsed": 283,
     "status": "ok",
     "timestamp": 1711657172587,
     "user": {
      "displayName": "Josue Huaman",
      "userId": "00979111574313897553"
     },
     "user_tz": 300
    },
    "id": "CYB3r2Tmtxf8"
   },
   "outputs": [],
   "source": [
    "from sklearn.preprocessing import LabelEncoder\n",
    "\n",
    "# Ejemplo con LabelEncoder\n",
    "encoder = LabelEncoder()\n",
    "y_encoded = encoder.fit_transform(dataframe[\"Category\"])\n",
    "# Ahora `y_encoded` contiene valores numéricos para cada animal"
   ]
  },
  {
   "cell_type": "markdown",
   "metadata": {
    "id": "b53G5dvAtu5Y"
   },
   "source": [
    "## Split\n",
    "[Index](#Index)"
   ]
  },
  {
   "cell_type": "code",
   "execution_count": null,
   "metadata": {
    "executionInfo": {
     "elapsed": 324,
     "status": "ok",
     "timestamp": 1711657505255,
     "user": {
      "displayName": "Josue Huaman",
      "userId": "00979111574313897553"
     },
     "user_tz": 300
    },
    "id": "LlpUUfTdoGxs"
   },
   "outputs": [],
   "source": [
    "X, y = p.numericalDataframe, y_encoded\n",
    "\n",
    "X_train, X_test, y_train, y_test = train_test_split(\n",
    "    X, y, test_size=0.33, random_state=42)"
   ]
  },
  {
   "cell_type": "markdown",
   "metadata": {
    "id": "aIkTFNeftoPD"
   },
   "source": [
    "## Train the Model\n",
    "[Index](#Index)"
   ]
  },
  {
   "cell_type": "code",
   "execution_count": null,
   "metadata": {
    "colab": {
     "base_uri": "https://localhost:8080/"
    },
    "executionInfo": {
     "elapsed": 1052,
     "status": "ok",
     "timestamp": 1711657813552,
     "user": {
      "displayName": "Josue Huaman",
      "userId": "00979111574313897553"
     },
     "user_tz": 300
    },
    "id": "Fz0EanBpV5SB",
    "outputId": "9fb1e89c-c616-483e-9779-f30dffceddd0"
   },
   "outputs": [],
   "source": [
    "# Número de características de entrada y clases de salida\n",
    "n_features = len(X.columns)\n",
    "n_classes = pd.Series(y_encoded).nunique()\n",
    "\n",
    "# Crear el modelo\n",
    "model = Sequential([\n",
    "    Normalization(input_shape=(n_features,)),  # Capa de normalización\n",
    "    Dense(128, activation='relu'),  # Primera capa oculta\n",
    "    Dense(256, activation='relu'),  # Segunda capa oculta\n",
    "    Dense(128, activation='relu'),  # Tercera capa oculta\n",
    "    Dense(n_classes, activation='softmax')  # Capa de salida\n",
    "])\n",
    "\n",
    "# Antes de compilar el modelo, debes adaptar la capa de Normalization a tus datos\n",
    "# Esto calculará la media y la desviación estándar de tus datos de entrenamiento\n",
    "# y los usará para la normalización durante el entrenamiento e inferencia.\n",
    "\n",
    "# Supongamos que 'X_train' son tus datos de entrenamiento\n",
    "model.layers[0].adapt(X_train)\n",
    "\n",
    "# Compilar el modelo\n",
    "model.compile(optimizer='adam',\n",
    "              loss='sparse_categorical_crossentropy',\n",
    "              metrics=['accuracy'])\n",
    "\n",
    "# Resumen del modelo\n",
    "model.summary()\n",
    "\n",
    "# Entrenar el modelo como antes\n",
    "# model.fit(X_train, y_train, epochs=30, batch_size=32, validation_split=0.2)\n"
   ]
  },
  {
   "cell_type": "code",
   "execution_count": null,
   "metadata": {
    "colab": {
     "base_uri": "https://localhost:8080/"
    },
    "executionInfo": {
     "elapsed": 22492,
     "status": "ok",
     "timestamp": 1711657902258,
     "user": {
      "displayName": "Josue Huaman",
      "userId": "00979111574313897553"
     },
     "user_tz": 300
    },
    "id": "-klMiDOlwmlm",
    "outputId": "91ee071d-5bf9-43dc-8d53-c07875efc4f3"
   },
   "outputs": [],
   "source": [
    "# Entrenar el modelo\n",
    "history = model.fit(X_train, y_train,\n",
    "                    epochs=30,\n",
    "                    batch_size=32,\n",
    "                    validation_split=0.2)  # Usa el 20% de los datos para validación\n"
   ]
  },
  {
   "cell_type": "code",
   "execution_count": null,
   "metadata": {
    "colab": {
     "base_uri": "https://localhost:8080/"
    },
    "executionInfo": {
     "elapsed": 348,
     "status": "ok",
     "timestamp": 1711657910721,
     "user": {
      "displayName": "Josue Huaman",
      "userId": "00979111574313897553"
     },
     "user_tz": 300
    },
    "id": "EnfWfBXKwoA6",
    "outputId": "5992df9a-94e1-4a7e-a37c-e73a1a2fe327"
   },
   "outputs": [],
   "source": [
    "# Evaluar el modelo con el conjunto de datos de prueba\n",
    "test_loss, test_accuracy = model.evaluate(X_test, y_test)\n",
    "\n",
    "print(f\"Test Loss: {test_loss}\")\n",
    "print(f\"Test Accuracy: {test_accuracy}\")\n"
   ]
  }
 ],
 "metadata": {
  "colab": {
   "authorship_tag": "ABX9TyNk2t6eni6xh8H6vV23v24L",
   "mount_file_id": "1ys3noMtcUfXkJYURx8SV6-A6qoDVb3Dy",
   "provenance": [],
   "toc_visible": true
  },
  "kernelspec": {
   "display_name": "Python 3 (ipykernel)",
   "language": "python",
   "name": "python3"
  },
  "language_info": {
   "codemirror_mode": {
    "name": "ipython",
    "version": 3
   },
   "file_extension": ".py",
   "mimetype": "text/x-python",
   "name": "python",
   "nbconvert_exporter": "python",
   "pygments_lexer": "ipython3",
   "version": "3.11.0rc1"
  }
 },
 "nbformat": 4,
 "nbformat_minor": 4
}
