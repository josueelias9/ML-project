{
 "cells": [
  {
   "cell_type": "code",
   "execution_count": 33,
   "metadata": {
    "colab": {
     "base_uri": "https://localhost:8080/"
    },
    "executionInfo": {
     "elapsed": 338,
     "status": "ok",
     "timestamp": 1711655508574,
     "user": {
      "displayName": "Josue Huaman",
      "userId": "00979111574313897553"
     },
     "user_tz": 300
    },
    "id": "hLkP28FRGXAm",
    "outputId": "bab50892-654d-4aac-f73b-a01af047f454"
   },
   "outputs": [],
   "source": [
    "import pandas as pd\n",
    "import nltk\n",
    "import re\n",
    "import tensorflow as tf\n",
    "import matplotlib.pyplot as plt\n",
    "import seaborn as sns\n",
    "import numpy as np\n",
    "\n",
    "from sklearn.model_selection import train_test_split, GridSearchCV\n",
    "from sklearn.preprocessing import LabelEncoder\n",
    "from tensorflow.keras.models import Sequential\n",
    "from tensorflow.keras.layers import Dense, Normalization"
   ]
  },
  {
   "cell_type": "markdown",
   "metadata": {},
   "source": [
    "# Index\n",
    "* [DNN: Predicting Category Type](#DNN:-Predicting-Category-Type)\n",
    "    * [Encoding the Target](#Encoding-the-Target)\n",
    "    * [Split](#Split)\n",
    "    * [Train the Model](#Train-the-Model)"
   ]
  },
  {
   "cell_type": "markdown",
   "metadata": {
    "id": "I_cQoh39NiHQ"
   },
   "source": [
    "# DNN: Predicting Category Type\n",
    "[Index](#Index)\n",
    "\n",
    "[`regression`](https://www.tensorflow.org/tutorials/keras/regression)\n",
    "[`layers/Normalization`](https://www.tensorflow.org/api_docs/python/tf/keras/layers/Normalization)"
   ]
  },
  {
   "cell_type": "markdown",
   "metadata": {
    "id": "grmepQ1Vtlk1"
   },
   "source": [
    "## Encoding the Target\n",
    "[Index](#Index)"
   ]
  },
  {
   "cell_type": "code",
   "execution_count": 34,
   "metadata": {
    "executionInfo": {
     "elapsed": 315,
     "status": "ok",
     "timestamp": 1711657137873,
     "user": {
      "displayName": "Josue Huaman",
      "userId": "00979111574313897553"
     },
     "user_tz": 300
    },
    "id": "f52SnqeJjfWZ"
   },
   "outputs": [],
   "source": [
    "dataframe=pd.read_csv('/tf/ML-project/data/processedDataframe.csv')"
   ]
  },
  {
   "cell_type": "code",
   "execution_count": 35,
   "metadata": {
    "executionInfo": {
     "elapsed": 283,
     "status": "ok",
     "timestamp": 1711657172587,
     "user": {
      "displayName": "Josue Huaman",
      "userId": "00979111574313897553"
     },
     "user_tz": 300
    },
    "id": "CYB3r2Tmtxf8"
   },
   "outputs": [],
   "source": [
    "# Ejemplo con LabelEncoder\n",
    "encoder = LabelEncoder()\n",
    "y_encoded = encoder.fit_transform(dataframe[\"Category\"])\n",
    "# Ahora `y_encoded` contiene valores numéricos para cada animal"
   ]
  },
  {
   "cell_type": "code",
   "execution_count": 36,
   "metadata": {},
   "outputs": [
    {
     "data": {
      "text/html": [
       "<div>\n",
       "<style scoped>\n",
       "    .dataframe tbody tr th:only-of-type {\n",
       "        vertical-align: middle;\n",
       "    }\n",
       "\n",
       "    .dataframe tbody tr th {\n",
       "        vertical-align: top;\n",
       "    }\n",
       "\n",
       "    .dataframe thead th {\n",
       "        text-align: right;\n",
       "    }\n",
       "</style>\n",
       "<table border=\"1\" class=\"dataframe\">\n",
       "  <thead>\n",
       "    <tr style=\"text-align: right;\">\n",
       "      <th></th>\n",
       "      <th>Nutrient Data Bank Number</th>\n",
       "      <th>Data.Alpha Carotene</th>\n",
       "      <th>Data.Ash</th>\n",
       "      <th>Data.Beta Carotene</th>\n",
       "      <th>Data.Beta Cryptoxanthin</th>\n",
       "      <th>Data.Carbohydrate</th>\n",
       "      <th>Data.Cholesterol</th>\n",
       "      <th>Data.Choline</th>\n",
       "      <th>Data.Fiber</th>\n",
       "      <th>Data.Kilocalories</th>\n",
       "      <th>...</th>\n",
       "      <th>Data.Major Minerals.Potassium</th>\n",
       "      <th>Data.Major Minerals.Sodium</th>\n",
       "      <th>Data.Major Minerals.Zinc</th>\n",
       "      <th>Data.Vitamins.Vitamin A - IU</th>\n",
       "      <th>Data.Vitamins.Vitamin A - RAE</th>\n",
       "      <th>Data.Vitamins.Vitamin B12</th>\n",
       "      <th>Data.Vitamins.Vitamin B6</th>\n",
       "      <th>Data.Vitamins.Vitamin C</th>\n",
       "      <th>Data.Vitamins.Vitamin E</th>\n",
       "      <th>Data.Vitamins.Vitamin K</th>\n",
       "    </tr>\n",
       "  </thead>\n",
       "  <tbody>\n",
       "    <tr>\n",
       "      <th>0</th>\n",
       "      <td>1001</td>\n",
       "      <td>0</td>\n",
       "      <td>2.11</td>\n",
       "      <td>158</td>\n",
       "      <td>0</td>\n",
       "      <td>0.06</td>\n",
       "      <td>215</td>\n",
       "      <td>19</td>\n",
       "      <td>0.0</td>\n",
       "      <td>717</td>\n",
       "      <td>...</td>\n",
       "      <td>24</td>\n",
       "      <td>576</td>\n",
       "      <td>0.09</td>\n",
       "      <td>2499</td>\n",
       "      <td>684</td>\n",
       "      <td>0.17</td>\n",
       "      <td>0.003</td>\n",
       "      <td>0.0</td>\n",
       "      <td>2.32</td>\n",
       "      <td>7.0</td>\n",
       "    </tr>\n",
       "    <tr>\n",
       "      <th>1</th>\n",
       "      <td>1002</td>\n",
       "      <td>0</td>\n",
       "      <td>2.11</td>\n",
       "      <td>158</td>\n",
       "      <td>0</td>\n",
       "      <td>0.06</td>\n",
       "      <td>219</td>\n",
       "      <td>19</td>\n",
       "      <td>0.0</td>\n",
       "      <td>717</td>\n",
       "      <td>...</td>\n",
       "      <td>26</td>\n",
       "      <td>827</td>\n",
       "      <td>0.05</td>\n",
       "      <td>2499</td>\n",
       "      <td>684</td>\n",
       "      <td>0.13</td>\n",
       "      <td>0.003</td>\n",
       "      <td>0.0</td>\n",
       "      <td>2.32</td>\n",
       "      <td>7.0</td>\n",
       "    </tr>\n",
       "  </tbody>\n",
       "</table>\n",
       "<p>2 rows × 41 columns</p>\n",
       "</div>"
      ],
      "text/plain": [
       "   Nutrient Data Bank Number  Data.Alpha Carotene  Data.Ash  \\\n",
       "0                       1001                    0      2.11   \n",
       "1                       1002                    0      2.11   \n",
       "\n",
       "   Data.Beta Carotene  Data.Beta Cryptoxanthin  Data.Carbohydrate  \\\n",
       "0                 158                        0               0.06   \n",
       "1                 158                        0               0.06   \n",
       "\n",
       "   Data.Cholesterol  Data.Choline  Data.Fiber  Data.Kilocalories  ...  \\\n",
       "0               215            19         0.0                717  ...   \n",
       "1               219            19         0.0                717  ...   \n",
       "\n",
       "   Data.Major Minerals.Potassium  Data.Major Minerals.Sodium  \\\n",
       "0                             24                         576   \n",
       "1                             26                         827   \n",
       "\n",
       "   Data.Major Minerals.Zinc  Data.Vitamins.Vitamin A - IU  \\\n",
       "0                      0.09                          2499   \n",
       "1                      0.05                          2499   \n",
       "\n",
       "   Data.Vitamins.Vitamin A - RAE  Data.Vitamins.Vitamin B12  \\\n",
       "0                            684                       0.17   \n",
       "1                            684                       0.13   \n",
       "\n",
       "   Data.Vitamins.Vitamin B6  Data.Vitamins.Vitamin C  Data.Vitamins.Vitamin E  \\\n",
       "0                     0.003                      0.0                     2.32   \n",
       "1                     0.003                      0.0                     2.32   \n",
       "\n",
       "   Data.Vitamins.Vitamin K  \n",
       "0                      7.0  \n",
       "1                      7.0  \n",
       "\n",
       "[2 rows x 41 columns]"
      ]
     },
     "execution_count": 36,
     "metadata": {},
     "output_type": "execute_result"
    }
   ],
   "source": [
    "dataframe.drop(columns=[\"Category\"]).head(2)"
   ]
  },
  {
   "cell_type": "markdown",
   "metadata": {
    "id": "b53G5dvAtu5Y"
   },
   "source": [
    "## Split\n",
    "[Index](#Index)"
   ]
  },
  {
   "cell_type": "code",
   "execution_count": 37,
   "metadata": {
    "executionInfo": {
     "elapsed": 324,
     "status": "ok",
     "timestamp": 1711657505255,
     "user": {
      "displayName": "Josue Huaman",
      "userId": "00979111574313897553"
     },
     "user_tz": 300
    },
    "id": "LlpUUfTdoGxs"
   },
   "outputs": [],
   "source": [
    "X, y = dataframe.drop(columns=[\"Category\"]), y_encoded\n",
    "\n",
    "X_train, X_test, y_train, y_test = train_test_split(\n",
    "    X, y, test_size=0.33, random_state=42)"
   ]
  },
  {
   "cell_type": "code",
   "execution_count": 38,
   "metadata": {},
   "outputs": [
    {
     "data": {
      "text/plain": [
       "41"
      ]
     },
     "execution_count": 38,
     "metadata": {},
     "output_type": "execute_result"
    }
   ],
   "source": [
    "len(X.columns)"
   ]
  },
  {
   "cell_type": "markdown",
   "metadata": {
    "id": "aIkTFNeftoPD"
   },
   "source": [
    "## Train the Model\n",
    "[Index](#Index)"
   ]
  },
  {
   "cell_type": "code",
   "execution_count": 49,
   "metadata": {
    "colab": {
     "base_uri": "https://localhost:8080/"
    },
    "executionInfo": {
     "elapsed": 1052,
     "status": "ok",
     "timestamp": 1711657813552,
     "user": {
      "displayName": "Josue Huaman",
      "userId": "00979111574313897553"
     },
     "user_tz": 300
    },
    "id": "Fz0EanBpV5SB",
    "outputId": "9fb1e89c-c616-483e-9779-f30dffceddd0"
   },
   "outputs": [
    {
     "name": "stderr",
     "output_type": "stream",
     "text": [
      "/usr/local/lib/python3.11/dist-packages/keras/src/layers/preprocessing/normalization.py:99: UserWarning: Do not pass an `input_shape`/`input_dim` argument to a layer. When using Sequential models, prefer using an `Input(shape)` object as the first layer in the model instead.\n",
      "  super().__init__(**kwargs)\n"
     ]
    },
    {
     "data": {
      "text/html": [
       "<pre style=\"white-space:pre;overflow-x:auto;line-height:normal;font-family:Menlo,'DejaVu Sans Mono',consolas,'Courier New',monospace\"><span style=\"font-weight: bold\">Model: \"sequential_3\"</span>\n",
       "</pre>\n"
      ],
      "text/plain": [
       "\u001b[1mModel: \"sequential_3\"\u001b[0m\n"
      ]
     },
     "metadata": {},
     "output_type": "display_data"
    },
    {
     "data": {
      "text/html": [
       "<pre style=\"white-space:pre;overflow-x:auto;line-height:normal;font-family:Menlo,'DejaVu Sans Mono',consolas,'Courier New',monospace\">┏━━━━━━━━━━━━━━━━━━━━━━━━━━━━━━━━━┳━━━━━━━━━━━━━━━━━━━━━━━━┳━━━━━━━━━━━━━━━┓\n",
       "┃<span style=\"font-weight: bold\"> Layer (type)                    </span>┃<span style=\"font-weight: bold\"> Output Shape           </span>┃<span style=\"font-weight: bold\">       Param # </span>┃\n",
       "┡━━━━━━━━━━━━━━━━━━━━━━━━━━━━━━━━━╇━━━━━━━━━━━━━━━━━━━━━━━━╇━━━━━━━━━━━━━━━┩\n",
       "│ normalization_4 (<span style=\"color: #0087ff; text-decoration-color: #0087ff\">Normalization</span>) │ (<span style=\"color: #00d7ff; text-decoration-color: #00d7ff\">None</span>, <span style=\"color: #00af00; text-decoration-color: #00af00\">41</span>)             │            <span style=\"color: #00af00; text-decoration-color: #00af00\">83</span> │\n",
       "├─────────────────────────────────┼────────────────────────┼───────────────┤\n",
       "│ dense_12 (<span style=\"color: #0087ff; text-decoration-color: #0087ff\">Dense</span>)                │ (<span style=\"color: #00d7ff; text-decoration-color: #00d7ff\">None</span>, <span style=\"color: #00af00; text-decoration-color: #00af00\">128</span>)            │         <span style=\"color: #00af00; text-decoration-color: #00af00\">5,376</span> │\n",
       "├─────────────────────────────────┼────────────────────────┼───────────────┤\n",
       "│ dense_13 (<span style=\"color: #0087ff; text-decoration-color: #0087ff\">Dense</span>)                │ (<span style=\"color: #00d7ff; text-decoration-color: #00d7ff\">None</span>, <span style=\"color: #00af00; text-decoration-color: #00af00\">256</span>)            │        <span style=\"color: #00af00; text-decoration-color: #00af00\">33,024</span> │\n",
       "├─────────────────────────────────┼────────────────────────┼───────────────┤\n",
       "│ dense_14 (<span style=\"color: #0087ff; text-decoration-color: #0087ff\">Dense</span>)                │ (<span style=\"color: #00d7ff; text-decoration-color: #00d7ff\">None</span>, <span style=\"color: #00af00; text-decoration-color: #00af00\">128</span>)            │        <span style=\"color: #00af00; text-decoration-color: #00af00\">32,896</span> │\n",
       "├─────────────────────────────────┼────────────────────────┼───────────────┤\n",
       "│ dense_15 (<span style=\"color: #0087ff; text-decoration-color: #0087ff\">Dense</span>)                │ (<span style=\"color: #00d7ff; text-decoration-color: #00d7ff\">None</span>, <span style=\"color: #00af00; text-decoration-color: #00af00\">669</span>)            │        <span style=\"color: #00af00; text-decoration-color: #00af00\">86,301</span> │\n",
       "└─────────────────────────────────┴────────────────────────┴───────────────┘\n",
       "</pre>\n"
      ],
      "text/plain": [
       "┏━━━━━━━━━━━━━━━━━━━━━━━━━━━━━━━━━┳━━━━━━━━━━━━━━━━━━━━━━━━┳━━━━━━━━━━━━━━━┓\n",
       "┃\u001b[1m \u001b[0m\u001b[1mLayer (type)                   \u001b[0m\u001b[1m \u001b[0m┃\u001b[1m \u001b[0m\u001b[1mOutput Shape          \u001b[0m\u001b[1m \u001b[0m┃\u001b[1m \u001b[0m\u001b[1m      Param #\u001b[0m\u001b[1m \u001b[0m┃\n",
       "┡━━━━━━━━━━━━━━━━━━━━━━━━━━━━━━━━━╇━━━━━━━━━━━━━━━━━━━━━━━━╇━━━━━━━━━━━━━━━┩\n",
       "│ normalization_4 (\u001b[38;5;33mNormalization\u001b[0m) │ (\u001b[38;5;45mNone\u001b[0m, \u001b[38;5;34m41\u001b[0m)             │            \u001b[38;5;34m83\u001b[0m │\n",
       "├─────────────────────────────────┼────────────────────────┼───────────────┤\n",
       "│ dense_12 (\u001b[38;5;33mDense\u001b[0m)                │ (\u001b[38;5;45mNone\u001b[0m, \u001b[38;5;34m128\u001b[0m)            │         \u001b[38;5;34m5,376\u001b[0m │\n",
       "├─────────────────────────────────┼────────────────────────┼───────────────┤\n",
       "│ dense_13 (\u001b[38;5;33mDense\u001b[0m)                │ (\u001b[38;5;45mNone\u001b[0m, \u001b[38;5;34m256\u001b[0m)            │        \u001b[38;5;34m33,024\u001b[0m │\n",
       "├─────────────────────────────────┼────────────────────────┼───────────────┤\n",
       "│ dense_14 (\u001b[38;5;33mDense\u001b[0m)                │ (\u001b[38;5;45mNone\u001b[0m, \u001b[38;5;34m128\u001b[0m)            │        \u001b[38;5;34m32,896\u001b[0m │\n",
       "├─────────────────────────────────┼────────────────────────┼───────────────┤\n",
       "│ dense_15 (\u001b[38;5;33mDense\u001b[0m)                │ (\u001b[38;5;45mNone\u001b[0m, \u001b[38;5;34m669\u001b[0m)            │        \u001b[38;5;34m86,301\u001b[0m │\n",
       "└─────────────────────────────────┴────────────────────────┴───────────────┘\n"
      ]
     },
     "metadata": {},
     "output_type": "display_data"
    },
    {
     "data": {
      "text/html": [
       "<pre style=\"white-space:pre;overflow-x:auto;line-height:normal;font-family:Menlo,'DejaVu Sans Mono',consolas,'Courier New',monospace\"><span style=\"font-weight: bold\"> Total params: </span><span style=\"color: #00af00; text-decoration-color: #00af00\">157,680</span> (615.94 KB)\n",
       "</pre>\n"
      ],
      "text/plain": [
       "\u001b[1m Total params: \u001b[0m\u001b[38;5;34m157,680\u001b[0m (615.94 KB)\n"
      ]
     },
     "metadata": {},
     "output_type": "display_data"
    },
    {
     "data": {
      "text/html": [
       "<pre style=\"white-space:pre;overflow-x:auto;line-height:normal;font-family:Menlo,'DejaVu Sans Mono',consolas,'Courier New',monospace\"><span style=\"font-weight: bold\"> Trainable params: </span><span style=\"color: #00af00; text-decoration-color: #00af00\">157,597</span> (615.61 KB)\n",
       "</pre>\n"
      ],
      "text/plain": [
       "\u001b[1m Trainable params: \u001b[0m\u001b[38;5;34m157,597\u001b[0m (615.61 KB)\n"
      ]
     },
     "metadata": {},
     "output_type": "display_data"
    },
    {
     "data": {
      "text/html": [
       "<pre style=\"white-space:pre;overflow-x:auto;line-height:normal;font-family:Menlo,'DejaVu Sans Mono',consolas,'Courier New',monospace\"><span style=\"font-weight: bold\"> Non-trainable params: </span><span style=\"color: #00af00; text-decoration-color: #00af00\">83</span> (336.00 B)\n",
       "</pre>\n"
      ],
      "text/plain": [
       "\u001b[1m Non-trainable params: \u001b[0m\u001b[38;5;34m83\u001b[0m (336.00 B)\n"
      ]
     },
     "metadata": {},
     "output_type": "display_data"
    }
   ],
   "source": [
    "# Número de características de entrada y clases de salida\n",
    "n_features = len(X.columns)\n",
    "n_classes = pd.Series(y_encoded).nunique()\n",
    "\n",
    "# Crear el modelo\n",
    "model = Sequential([\n",
    "    Normalization(input_shape=(n_features,)),  # Capa de normalización\n",
    "    Dense(128, activation='relu'),  # Primera capa oculta\n",
    "    Dense(256, activation='relu'),  # Segunda capa oculta\n",
    "    Dense(128, activation='relu'),  # Tercera capa oculta\n",
    "    Dense(n_classes, activation='softmax')  # Capa de salida\n",
    "])\n",
    "\n",
    "# Antes de compilar el modelo, debes adaptar la capa de Normalization a tus datos\n",
    "# Esto calculará la media y la desviación estándar de tus datos de entrenamiento\n",
    "# y los usará para la normalización durante el entrenamiento e inferencia.\n",
    "\n",
    "# Supongamos que 'X_train' son tus datos de entrenamiento\n",
    "model.layers[0].adapt(X_train.to_numpy())\n",
    "\n",
    "# Compilar el modelo\n",
    "model.compile(optimizer='adam',\n",
    "              loss='sparse_categorical_crossentropy',\n",
    "              metrics=['accuracy'])\n",
    "\n",
    "# Resumen del modelo\n",
    "model.summary()\n",
    "\n",
    "# Entrenar el modelo como antes\n",
    "# model.fit(X_train, y_train, epochs=30, batch_size=32, validation_split=0.2)\n"
   ]
  },
  {
   "cell_type": "code",
   "execution_count": 50,
   "metadata": {
    "colab": {
     "base_uri": "https://localhost:8080/"
    },
    "executionInfo": {
     "elapsed": 22492,
     "status": "ok",
     "timestamp": 1711657902258,
     "user": {
      "displayName": "Josue Huaman",
      "userId": "00979111574313897553"
     },
     "user_tz": 300
    },
    "id": "-klMiDOlwmlm",
    "outputId": "91ee071d-5bf9-43dc-8d53-c07875efc4f3"
   },
   "outputs": [
    {
     "name": "stdout",
     "output_type": "stream",
     "text": [
      "Epoch 1/30\n",
      "\u001b[1m125/125\u001b[0m \u001b[32m━━━━━━━━━━━━━━━━━━━━\u001b[0m\u001b[37m\u001b[0m \u001b[1m6s\u001b[0m 13ms/step - accuracy: 0.1304 - loss: 5.5294 - val_accuracy: 0.2767 - val_loss: 4.2464\n",
      "Epoch 2/30\n",
      "\u001b[1m125/125\u001b[0m \u001b[32m━━━━━━━━━━━━━━━━━━━━\u001b[0m\u001b[37m\u001b[0m \u001b[1m1s\u001b[0m 8ms/step - accuracy: 0.2963 - loss: 3.6616 - val_accuracy: 0.3612 - val_loss: 3.6740\n",
      "Epoch 3/30\n",
      "\u001b[1m125/125\u001b[0m \u001b[32m━━━━━━━━━━━━━━━━━━━━\u001b[0m\u001b[37m\u001b[0m \u001b[1m1s\u001b[0m 10ms/step - accuracy: 0.3667 - loss: 2.9555 - val_accuracy: 0.4276 - val_loss: 3.4637\n",
      "Epoch 4/30\n",
      "\u001b[1m125/125\u001b[0m \u001b[32m━━━━━━━━━━━━━━━━━━━━\u001b[0m\u001b[37m\u001b[0m \u001b[1m1s\u001b[0m 9ms/step - accuracy: 0.4568 - loss: 2.4360 - val_accuracy: 0.4728 - val_loss: 3.2553\n",
      "Epoch 5/30\n",
      "\u001b[1m125/125\u001b[0m \u001b[32m━━━━━━━━━━━━━━━━━━━━\u001b[0m\u001b[37m\u001b[0m \u001b[1m1s\u001b[0m 9ms/step - accuracy: 0.5105 - loss: 2.0903 - val_accuracy: 0.5050 - val_loss: 3.3320\n",
      "Epoch 6/30\n",
      "\u001b[1m125/125\u001b[0m \u001b[32m━━━━━━━━━━━━━━━━━━━━\u001b[0m\u001b[37m\u001b[0m \u001b[1m1s\u001b[0m 10ms/step - accuracy: 0.5538 - loss: 1.7496 - val_accuracy: 0.5523 - val_loss: 3.3478\n",
      "Epoch 7/30\n",
      "\u001b[1m125/125\u001b[0m \u001b[32m━━━━━━━━━━━━━━━━━━━━\u001b[0m\u001b[37m\u001b[0m \u001b[1m1s\u001b[0m 7ms/step - accuracy: 0.5933 - loss: 1.4992 - val_accuracy: 0.5755 - val_loss: 3.3744\n",
      "Epoch 8/30\n",
      "\u001b[1m125/125\u001b[0m \u001b[32m━━━━━━━━━━━━━━━━━━━━\u001b[0m\u001b[37m\u001b[0m \u001b[1m1s\u001b[0m 9ms/step - accuracy: 0.6467 - loss: 1.2912 - val_accuracy: 0.5835 - val_loss: 3.3649\n",
      "Epoch 9/30\n",
      "\u001b[1m125/125\u001b[0m \u001b[32m━━━━━━━━━━━━━━━━━━━━\u001b[0m\u001b[37m\u001b[0m \u001b[1m1s\u001b[0m 9ms/step - accuracy: 0.6681 - loss: 1.2107 - val_accuracy: 0.5905 - val_loss: 3.5815\n",
      "Epoch 10/30\n",
      "\u001b[1m125/125\u001b[0m \u001b[32m━━━━━━━━━━━━━━━━━━━━\u001b[0m\u001b[37m\u001b[0m \u001b[1m1s\u001b[0m 9ms/step - accuracy: 0.7030 - loss: 1.0926 - val_accuracy: 0.5765 - val_loss: 3.7165\n",
      "Epoch 11/30\n",
      "\u001b[1m125/125\u001b[0m \u001b[32m━━━━━━━━━━━━━━━━━━━━\u001b[0m\u001b[37m\u001b[0m \u001b[1m1s\u001b[0m 9ms/step - accuracy: 0.7172 - loss: 0.9725 - val_accuracy: 0.5875 - val_loss: 3.7106\n",
      "Epoch 12/30\n",
      "\u001b[1m125/125\u001b[0m \u001b[32m━━━━━━━━━━━━━━━━━━━━\u001b[0m\u001b[37m\u001b[0m \u001b[1m1s\u001b[0m 9ms/step - accuracy: 0.7510 - loss: 0.8634 - val_accuracy: 0.6016 - val_loss: 3.7680\n",
      "Epoch 13/30\n",
      "\u001b[1m125/125\u001b[0m \u001b[32m━━━━━━━━━━━━━━━━━━━━\u001b[0m\u001b[37m\u001b[0m \u001b[1m1s\u001b[0m 9ms/step - accuracy: 0.7415 - loss: 0.8426 - val_accuracy: 0.6097 - val_loss: 3.9361\n",
      "Epoch 14/30\n",
      "\u001b[1m125/125\u001b[0m \u001b[32m━━━━━━━━━━━━━━━━━━━━\u001b[0m\u001b[37m\u001b[0m \u001b[1m1s\u001b[0m 11ms/step - accuracy: 0.7850 - loss: 0.7231 - val_accuracy: 0.6237 - val_loss: 3.9688\n",
      "Epoch 15/30\n",
      "\u001b[1m125/125\u001b[0m \u001b[32m━━━━━━━━━━━━━━━━━━━━\u001b[0m\u001b[37m\u001b[0m \u001b[1m1s\u001b[0m 10ms/step - accuracy: 0.7974 - loss: 0.6816 - val_accuracy: 0.6087 - val_loss: 4.0651\n",
      "Epoch 16/30\n",
      "\u001b[1m125/125\u001b[0m \u001b[32m━━━━━━━━━━━━━━━━━━━━\u001b[0m\u001b[37m\u001b[0m \u001b[1m1s\u001b[0m 9ms/step - accuracy: 0.8118 - loss: 0.6215 - val_accuracy: 0.6247 - val_loss: 4.1413\n",
      "Epoch 17/30\n",
      "\u001b[1m125/125\u001b[0m \u001b[32m━━━━━━━━━━━━━━━━━━━━\u001b[0m\u001b[37m\u001b[0m \u001b[1m1s\u001b[0m 11ms/step - accuracy: 0.8303 - loss: 0.5441 - val_accuracy: 0.6237 - val_loss: 4.1419\n",
      "Epoch 18/30\n",
      "\u001b[1m125/125\u001b[0m \u001b[32m━━━━━━━━━━━━━━━━━━━━\u001b[0m\u001b[37m\u001b[0m \u001b[1m1s\u001b[0m 11ms/step - accuracy: 0.8524 - loss: 0.5184 - val_accuracy: 0.6177 - val_loss: 4.3935\n",
      "Epoch 19/30\n",
      "\u001b[1m125/125\u001b[0m \u001b[32m━━━━━━━━━━━━━━━━━━━━\u001b[0m\u001b[37m\u001b[0m \u001b[1m1s\u001b[0m 10ms/step - accuracy: 0.8358 - loss: 0.5449 - val_accuracy: 0.6449 - val_loss: 4.3375\n",
      "Epoch 20/30\n",
      "\u001b[1m125/125\u001b[0m \u001b[32m━━━━━━━━━━━━━━━━━━━━\u001b[0m\u001b[37m\u001b[0m \u001b[1m1s\u001b[0m 10ms/step - accuracy: 0.8582 - loss: 0.4651 - val_accuracy: 0.6318 - val_loss: 4.4054\n",
      "Epoch 21/30\n",
      "\u001b[1m125/125\u001b[0m \u001b[32m━━━━━━━━━━━━━━━━━━━━\u001b[0m\u001b[37m\u001b[0m \u001b[1m2s\u001b[0m 14ms/step - accuracy: 0.8634 - loss: 0.4458 - val_accuracy: 0.6227 - val_loss: 4.5197\n",
      "Epoch 22/30\n",
      "\u001b[1m125/125\u001b[0m \u001b[32m━━━━━━━━━━━━━━━━━━━━\u001b[0m\u001b[37m\u001b[0m \u001b[1m1s\u001b[0m 10ms/step - accuracy: 0.8801 - loss: 0.3911 - val_accuracy: 0.6469 - val_loss: 4.6206\n",
      "Epoch 23/30\n",
      "\u001b[1m125/125\u001b[0m \u001b[32m━━━━━━━━━━━━━━━━━━━━\u001b[0m\u001b[37m\u001b[0m \u001b[1m1s\u001b[0m 10ms/step - accuracy: 0.8996 - loss: 0.3384 - val_accuracy: 0.6499 - val_loss: 4.5911\n",
      "Epoch 24/30\n",
      "\u001b[1m125/125\u001b[0m \u001b[32m━━━━━━━━━━━━━━━━━━━━\u001b[0m\u001b[37m\u001b[0m \u001b[1m1s\u001b[0m 10ms/step - accuracy: 0.8891 - loss: 0.3381 - val_accuracy: 0.6479 - val_loss: 4.7047\n",
      "Epoch 25/30\n",
      "\u001b[1m125/125\u001b[0m \u001b[32m━━━━━━━━━━━━━━━━━━━━\u001b[0m\u001b[37m\u001b[0m \u001b[1m1s\u001b[0m 7ms/step - accuracy: 0.9077 - loss: 0.3085 - val_accuracy: 0.6348 - val_loss: 4.7526\n",
      "Epoch 26/30\n",
      "\u001b[1m125/125\u001b[0m \u001b[32m━━━━━━━━━━━━━━━━━━━━\u001b[0m\u001b[37m\u001b[0m \u001b[1m1s\u001b[0m 9ms/step - accuracy: 0.9072 - loss: 0.3074 - val_accuracy: 0.6419 - val_loss: 4.8866\n",
      "Epoch 27/30\n",
      "\u001b[1m125/125\u001b[0m \u001b[32m━━━━━━━━━━━━━━━━━━━━\u001b[0m\u001b[37m\u001b[0m \u001b[1m1s\u001b[0m 9ms/step - accuracy: 0.9027 - loss: 0.3059 - val_accuracy: 0.6388 - val_loss: 4.9476\n",
      "Epoch 28/30\n",
      "\u001b[1m125/125\u001b[0m \u001b[32m━━━━━━━━━━━━━━━━━━━━\u001b[0m\u001b[37m\u001b[0m \u001b[1m1s\u001b[0m 9ms/step - accuracy: 0.9305 - loss: 0.2574 - val_accuracy: 0.6419 - val_loss: 4.9528\n",
      "Epoch 29/30\n",
      "\u001b[1m125/125\u001b[0m \u001b[32m━━━━━━━━━━━━━━━━━━━━\u001b[0m\u001b[37m\u001b[0m \u001b[1m1s\u001b[0m 9ms/step - accuracy: 0.9097 - loss: 0.2868 - val_accuracy: 0.6398 - val_loss: 5.0046\n",
      "Epoch 30/30\n",
      "\u001b[1m125/125\u001b[0m \u001b[32m━━━━━━━━━━━━━━━━━━━━\u001b[0m\u001b[37m\u001b[0m \u001b[1m1s\u001b[0m 8ms/step - accuracy: 0.8962 - loss: 0.3919 - val_accuracy: 0.6439 - val_loss: 4.8412\n"
     ]
    }
   ],
   "source": [
    "# Entrenar el modelo\n",
    "history = model.fit(X_train, y_train,\n",
    "                    epochs=30,\n",
    "                    batch_size=32,\n",
    "                    validation_split=0.2)  # Usa el 20% de los datos para validación\n"
   ]
  },
  {
   "cell_type": "code",
   "execution_count": 51,
   "metadata": {
    "colab": {
     "base_uri": "https://localhost:8080/"
    },
    "executionInfo": {
     "elapsed": 348,
     "status": "ok",
     "timestamp": 1711657910721,
     "user": {
      "displayName": "Josue Huaman",
      "userId": "00979111574313897553"
     },
     "user_tz": 300
    },
    "id": "EnfWfBXKwoA6",
    "outputId": "5992df9a-94e1-4a7e-a37c-e73a1a2fe327"
   },
   "outputs": [
    {
     "name": "stdout",
     "output_type": "stream",
     "text": [
      "\u001b[1m77/77\u001b[0m \u001b[32m━━━━━━━━━━━━━━━━━━━━\u001b[0m\u001b[37m\u001b[0m \u001b[1m0s\u001b[0m 4ms/step - accuracy: 0.6067 - loss: 4.4612\n",
      "Test Loss: 4.348629474639893\n",
      "Test Accuracy: 0.6195341348648071\n"
     ]
    }
   ],
   "source": [
    "# Evaluar el modelo con el conjunto de datos de prueba\n",
    "test_loss, test_accuracy = model.evaluate(X_test, y_test)\n",
    "\n",
    "print(f\"Test Loss: {test_loss}\")\n",
    "print(f\"Test Accuracy: {test_accuracy}\")\n"
   ]
  }
 ],
 "metadata": {
  "colab": {
   "authorship_tag": "ABX9TyNk2t6eni6xh8H6vV23v24L",
   "mount_file_id": "1ys3noMtcUfXkJYURx8SV6-A6qoDVb3Dy",
   "provenance": [],
   "toc_visible": true
  },
  "kernelspec": {
   "display_name": "Python 3 (ipykernel)",
   "language": "python",
   "name": "python3"
  },
  "language_info": {
   "codemirror_mode": {
    "name": "ipython",
    "version": 3
   },
   "file_extension": ".py",
   "mimetype": "text/x-python",
   "name": "python",
   "nbconvert_exporter": "python",
   "pygments_lexer": "ipython3",
   "version": "3.11.0rc1"
  }
 },
 "nbformat": 4,
 "nbformat_minor": 4
}
